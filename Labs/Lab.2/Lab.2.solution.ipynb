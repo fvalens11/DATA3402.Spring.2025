{
 "cells": [
  {
   "cell_type": "markdown",
   "metadata": {},
   "source": [
    "## Lab 2- Tic Tac Toe\n",
    "\n",
    "In this lab your will build a n x n Tic Tac Toe game. As you do the exercises, make sure your solutions work for any size Tic Tac Toe game. "
   ]
  },
  {
   "cell_type": "markdown",
   "metadata": {},
   "source": [
    "*Exercise 1:* Write a function that creates an n by n matrix (of list of lists) which will represent the state of a Tie Tac Toe game. Let 0, 1, and 2 represent empty, \"X\", and \"O\", respectively.\n"
   ]
  },
  {
   "cell_type": "code",
   "execution_count": null,
   "metadata": {
    "collapsed": true
   },
   "outputs": [],
   "source": [
    "board=list()\n",
    "for i in range(size):\n",
    "    row=list()\n",
    "    for j in range(size):\n",
    "        row.append(0)\n",
    "    board.append(row)\n",
    "\n",
    "board"
   ]
  },
  {
   "cell_type": "code",
   "execution_count": 2,
   "metadata": {},
   "outputs": [
    {
     "data": {
      "text/plain": [
       "[[0, 0, 0], [0, 0, 0], [0, 0, 0]]"
      ]
     },
     "execution_count": 2,
     "metadata": {},
     "output_type": "execute_result"
    }
   ],
   "source": [
    "size=3\n",
    "board=list()\n",
    "for i in range(size):\n",
    "    row=list()\n",
    "    for j in range(size):\n",
    "        row.append(0)\n",
    "    board.append(row)\n",
    "\n",
    "board"
   ]
  },
  {
   "cell_type": "markdown",
   "metadata": {},
   "source": [
    "*Exercise 2:* Write a function that takes 2 integers `n` and `m` as input and draws a `n` by `m` game board. For example the following is a 3x3 board:\n",
    "```\n",
    "   --- --- --- \n",
    "  |   |   |   | \n",
    "   --- --- ---  \n",
    "  |   |   |   | \n",
    "   --- --- ---  \n",
    "  |   |   |   | \n",
    "   --- --- --- \n",
    "   ```"
   ]
  },
  {
   "cell_type": "code",
   "execution_count": null,
   "metadata": {
    "collapsed": true
   },
   "outputs": [],
   "source": [
    "\n",
    "size=int(input('Enter a # for the size of the board:'))\n",
    "board=list()\n",
    "for i in range(size):\n",
    "    row=list()\n",
    "    for j in range(size):\n",
    "        row.append(0)\n",
    "    board.append(row)\n",
    "\n",
    "board"
   ]
  },
  {
   "cell_type": "code",
   "execution_count": 3,
   "metadata": {},
   "outputs": [
    {
     "name": "stdout",
     "output_type": "stream",
     "text": [
      "Enter a # for the size of the board:3\n"
     ]
    },
    {
     "data": {
      "text/plain": [
       "[[0, 0, 0], [0, 0, 0], [0, 0, 0]]"
      ]
     },
     "execution_count": 3,
     "metadata": {},
     "output_type": "execute_result"
    }
   ],
   "source": [
    "\n",
    "size=int(input('Enter a # for the size of the board:'))\n",
    "board=list()\n",
    "for i in range(size):\n",
    "    row=list()\n",
    "    for j in range(size):\n",
    "        row.append(0)\n",
    "    board.append(row)\n",
    "\n",
    "board"
   ]
  },
  {
   "cell_type": "markdown",
   "metadata": {},
   "source": [
    "*Exercise 3:* Modify exercise 2, so that it takes a matrix of the form from exercise 1 and draws a tic-tac-tie board with \"X\"s and \"O\"s.  "
   ]
  },
  {
   "cell_type": "code",
   "execution_count": null,
   "metadata": {
    "collapsed": true
   },
   "outputs": [],
   "source": [
    "size=3\n",
    "board=list()\n",
    "for i in range(size):\n",
    "    row=list()\n",
    "    for j in range(size):\n",
    "        row=['X','O','X']\n",
    "    board.append(row)\n",
    "\n",
    "board\n",
    "        "
   ]
  },
  {
   "cell_type": "code",
   "execution_count": 4,
   "metadata": {},
   "outputs": [
    {
     "data": {
      "text/plain": [
       "[['X', 'O', 'X'], ['X', 'O', 'X'], ['X', 'O', 'X']]"
      ]
     },
     "execution_count": 4,
     "metadata": {},
     "output_type": "execute_result"
    }
   ],
   "source": [
    "size=3\n",
    "board=list()\n",
    "for i in range(size):\n",
    "    row=list()\n",
    "    for j in range(size):\n",
    "        row=['X','O','X']\n",
    "    board.append(row)\n",
    "\n",
    "board\n",
    "        "
   ]
  },
  {
   "cell_type": "markdown",
   "metadata": {},
   "source": [
    "*Exercise 4:* Write a function that takes a `n` by `n` matrix representing a tic-tac-toe game, and returns -1, 0, 1, or 2 indicating the game is incomplete, the game is a draw, player 1 has won, or player 2 has one, respectively. Here are some example inputs you can use to test your code:"
   ]
  },
  {
   "cell_type": "code",
   "execution_count": 1,
   "metadata": {},
   "outputs": [],
   "source": [
    "\n",
    "def check_winner(board):\n",
    "    n = len(board)\n",
    "    \n",
    "    # Check rows and columns\n",
    "    for i in range(n):\n",
    "        if all(board[i][j] == board[i][0] and board[i][j] != 0 for j in range(n)):\n",
    "            return board[i][0]\n",
    "        if all(board[j][i] == board[0][i] and board[j][i] != 0 for j in range(n)):\n",
    "            return board[0][i]\n",
    "    \n",
    "    # Check diagonals\n",
    "    if all(board[i][i] == board[0][0] and board[i][i] != 0 for i in range(n)):\n",
    "        return board[0][0]\n",
    "    if all(board[i][n-i-1] == board[0][n-1] and board[i][n-i-1] != 0 for i in range(n)):\n",
    "        return board[0][n-1]\n",
    "    \n",
    "    # Check for incomplete game (presence of 0s)\n",
    "    for i in range(n):\n",
    "        for j in range(n):\n",
    "            if board[i][j] == 0:\n",
    "                return -1\n",
    "    \n",
    "    # If no winner and no empty spaces, it's a draw\n",
    "    return 0"
   ]
  },
  {
   "cell_type": "code",
   "execution_count": 8,
   "metadata": {},
   "outputs": [
    {
     "data": {
      "text/plain": [
       "2"
      ]
     },
     "execution_count": 8,
     "metadata": {},
     "output_type": "execute_result"
    }
   ],
   "source": [
    "check_winner(winner_is_2)"
   ]
  },
  {
   "cell_type": "code",
   "execution_count": 6,
   "metadata": {},
   "outputs": [],
   "source": [
    "winner_is_2 = [[2, 2, 0],\n",
    "\t[2, 1, 0],\n",
    "\t[2, 1, 1]]\n",
    "\n",
    "winner_is_1 = [[1, 2, 0],\n",
    "\t[2, 1, 0],\n",
    "\t[2, 1, 1]]\n",
    "\n",
    "winner_is_also_1 = [[0, 1, 0],\n",
    "\t[2, 1, 0],\n",
    "\t[2, 1, 1]]\n",
    "\n",
    "no_winner = [[1, 2, 0],\n",
    "\t[2, 1, 0],\n",
    "\t[2, 1, 2]]\n",
    "\n",
    "also_no_winner = [[1, 2, 0],\n",
    "\t[2, 1, 0],\n",
    "\t[2, 1, 0]]"
   ]
  },
  {
   "cell_type": "markdown",
   "metadata": {},
   "source": [
    "*Exercise 5:* Write a function that takes a game board, player number, and `(x,y)` coordinates and places \"X\" or \"O\" in the correct location of the game board. Make sure that you only allow filling previously empty locations. Return `True` or `False` to indicate successful placement of \"X\" or \"O\"."
   ]
  },
  {
   "cell_type": "code",
   "execution_count": 2,
   "metadata": {},
   "outputs": [
    {
     "name": "stdout",
     "output_type": "stream",
     "text": [
      "Enter a # for the size of the board:5\n"
     ]
    }
   ],
   "source": [
    "\n",
    "size=int(input('Enter a # for the size of the board:'))\n",
    "board=list()\n",
    "for i in range(size):\n",
    "    row=list()\n",
    "    for j in range(size):\n",
    "        row.append(0)\n",
    "    board.append(row)\n",
    "\n",
    "def place_move(board,player, x, y):\n",
    "    \n",
    "    \n",
    "    \n",
    "    if x < 0 or x >= size or y < 0 or y >= size:\n",
    "        return False\n",
    "    \n",
    "    \n",
    "    if board[x][y] != 0:\n",
    "        return False\n",
    "    \n",
    "    \n",
    "    board[x][y] = 1 if player == 1 else 2\n",
    "    \n",
    "    return True\n"
   ]
  },
  {
   "cell_type": "code",
   "execution_count": 10,
   "metadata": {},
   "outputs": [
    {
     "data": {
      "text/plain": [
       "True"
      ]
     },
     "execution_count": 10,
     "metadata": {},
     "output_type": "execute_result"
    }
   ],
   "source": [
    "place_move(board,1,1,1)"
   ]
  },
  {
   "cell_type": "markdown",
   "metadata": {},
   "source": [
    "*Exercise 6:* Modify Exercise 3 to show column and row labels so that players can specify location using \"A2\" or \"C1\"."
   ]
  },
  {
   "cell_type": "code",
   "execution_count": 3,
   "metadata": {},
   "outputs": [
    {
     "name": "stdout",
     "output_type": "stream",
     "text": [
      "Enter a # for the size of the board:5\n"
     ]
    }
   ],
   "source": [
    "row_names=list(\"ABCDEFGHIJKLMNOPQRSTUVWXYZ\")\n",
    "row_map=dict(zip(row_names,range(size)))\n",
    "column_names=list(map(str,range(1,size+1)))\n",
    "column_map=dict(zip(column_names,range(size)))\n",
    "\n",
    "column_map\n",
    "\n",
    "size=int(input('Enter a # for the size of the board:'))\n",
    "board=list()\n",
    "for i in range(size):\n",
    "    row=list()\n",
    "    for j in range(size):\n",
    "        row.append(0)\n",
    "    board.append(row)\n",
    "\n",
    "def draw_board(board):\n",
    "    print(\" \",end=\" \")\n",
    "    for j in range(size):\n",
    "        print(column_names[j],end=\" \")\n",
    "    print()\n",
    "    \n",
    "    for i in range(size):\n",
    "        print(row_names[i],end=\" \")\n",
    "        for j in range(size):\n",
    "            print([board[i][j]],end=\" \")\n",
    "        print()"
   ]
  },
  {
   "cell_type": "code",
   "execution_count": 12,
   "metadata": {},
   "outputs": [
    {
     "name": "stdout",
     "output_type": "stream",
     "text": [
      "  1 2 3 \n",
      "A [0] [0] [0] \n",
      "B [0] [0] [0] \n",
      "C [0] [0] [0] \n"
     ]
    }
   ],
   "source": [
    "draw_board(board)"
   ]
  },
  {
   "cell_type": "markdown",
   "metadata": {},
   "source": [
    "*Exercise 7:* Write a function that takes a board, player number, and location specified as in exercise 6 and then calls exercise 5 to correctly modify the board.  "
   ]
  },
  {
   "cell_type": "code",
   "execution_count": 4,
   "metadata": {},
   "outputs": [],
   "source": [
    "\n",
    "row_names=list(\"ABCDEFGHIJKLMNOPQRSTUVWXYZ\")\n",
    "row_map=dict(zip(row_names,range(size)))\n",
    "column_names=list(map(str,range(1,size+1)))\n",
    "column_map=dict(zip(column_names,range(size)))\n",
    "\n",
    "\n",
    "def draw_board(board):\n",
    "    print(\" \",end=\" \")\n",
    "    for j in range(size):\n",
    "        print(column_names[j],end=\" \")\n",
    "    print()\n",
    "\n",
    "    for i in range(size):\n",
    "        print(row_names[i],end=\" \")\n",
    "        for j in range(size):\n",
    "            print([board[i][j]],end=\" \")\n",
    "        print()\n",
    "\n",
    "def parse_location(l_string):\n",
    "    if not isinstance(l_string,str):\n",
    "        print(\"Bad Input. Location must be string.\")\n",
    "        return False\n",
    "\n",
    "    if len(l_string)!=2:\n",
    "        print(\"Bad Input. Location must be 2 characters.\")\n",
    "        return False\n",
    "\n",
    "    row=l_string[0].upper()\n",
    "    col=l_string[1].upper()\n",
    "\n",
    "    if not row in row_names:\n",
    "        print(\"Bad Row.\")\n",
    "        return False\n",
    "\n",
    "    if not col in column_names:\n",
    "        print(\"Bad Column.\")\n",
    "        return False\n",
    "\n",
    "    return row_map[row],column_map[col]\n",
    "\n",
    "def make_move(board,player,location):\n",
    "    row,col=parse_location(location)\n",
    "    board[row][col]=player\n",
    "    return board"
   ]
  },
  {
   "cell_type": "code",
   "execution_count": null,
   "metadata": {},
   "outputs": [],
   "source": [
    "make_move(board,1,'A3')"
   ]
  },
  {
   "cell_type": "code",
   "execution_count": null,
   "metadata": {},
   "outputs": [],
   "source": [
    "make_move(board,1,'A3')"
   ]
  },
  {
   "cell_type": "markdown",
   "metadata": {},
   "source": [
    "*Exercise 8:* Write a function is called with a board and player number, takes input from the player using python's `input`, and modifies the board using your function from exercise 7. Note that you should keep asking for input until you have gotten a valid input that results in a valid move."
   ]
  },
  {
   "cell_type": "code",
   "execution_count": 5,
   "metadata": {},
   "outputs": [
    {
     "name": "stdout",
     "output_type": "stream",
     "text": [
      "Enter a # for the size of the board:5\n"
     ]
    }
   ],
   "source": [
    "size=int(input('Enter a # for the size of the board:'))\n",
    "\n",
    "row_names=list(\"ABCDEFGHIJKLMNOPQRSTUVWXYZ\")\n",
    "row_map=dict(zip(row_names,range(size)))\n",
    "column_names=list(map(str,range(1,size+1)))\n",
    "column_map=dict(zip(column_names,range(size)))\n",
    "\n",
    "def create_board():\n",
    "  size=int(input('Enter a # for the size of the board:'))\n",
    "  board=list()\n",
    "  for i in range(size):\n",
    "      row=list()\n",
    "      for j in range(size):\n",
    "          row.append(0)\n",
    "      board.append(row)\n",
    "  return board\n",
    "\n",
    "def draw_board(board):\n",
    "    print(\" \",end=\" \")\n",
    "    for j in range(size):\n",
    "        print(column_names[j],end=\" \")\n",
    "    print()\n",
    "\n",
    "    for i in range(size):\n",
    "        print(row_names[i],end=\" \")\n",
    "        for j in range(size):\n",
    "            print([board[i][j]],end=\" \")\n",
    "        print()\n",
    "\n",
    "def parse_location(l_string):\n",
    "    if not isinstance(l_string,str):\n",
    "        print(\"Bad Input. Location must be string.\")\n",
    "        return False\n",
    "\n",
    "    if len(l_string)!=2:\n",
    "        print(\"Bad Input. Location must be 2 characters.\")\n",
    "        return False\n",
    "\n",
    "    row=l_string[0].upper()\n",
    "    col=l_string[1].upper()\n",
    "\n",
    "    if not row in row_names:\n",
    "        print(\"Bad Row.\")\n",
    "        return False\n",
    "\n",
    "    if not col in column_names:\n",
    "        print(\"Bad Column.\")\n",
    "        return False\n",
    "\n",
    "    return row_map[row],column_map[col]\n",
    "\n",
    "def make_move(board,player,location):\n",
    "    row,col=parse_location(location)\n",
    "    board[row][col]=player\n",
    "    return board"
   ]
  },
  {
   "cell_type": "code",
   "execution_count": null,
   "metadata": {
    "collapsed": true
   },
   "outputs": [],
   "source": [
    "# Test your solution here"
   ]
  },
  {
   "cell_type": "markdown",
   "metadata": {},
   "source": [
    "*Exercise 9:* Use all of the previous exercises to implement a full tic-tac-toe game, where an appropriate board is drawn, 2 players are repeatedly asked for a location coordinates of where they wish to place a mark, and the game status is checked until a player wins or a draw occurs."
   ]
  },
  {
   "cell_type": "code",
   "execution_count": 7,
   "metadata": {},
   "outputs": [],
   "source": [
    "\n",
    "def play_tic_tac_toe():\n",
    "\n",
    "  board_0=create_board()  \n",
    "  draw_board(board_0)\n",
    "  player = int(input('Would you like to be player 1 or 2?'))\n",
    "\n",
    "  if player == 1:\n",
    "    player2 = 2\n",
    "  else:\n",
    "    player2 = 1\n",
    "\n",
    "  win_cond = -1\n",
    "\n",
    "  curr_play = player\n",
    "  while win_cond == -1: \n",
    "    print ()\n",
    "    print (curr_play)\n",
    "    loc1 = str(input('Where would you like to play?  Ex: A2, or C2  '))\n",
    "\n",
    "    # Check if parse_location is successful before making the move\n",
    "    move_result = parse_location(loc1)\n",
    "    if move_result:\n",
    "        make_move(board_0, curr_play, loc1) \n",
    "        draw_board(board_0)  \n",
    "    else:\n",
    "        print(\"Invalid move. Please try again.\")  \n",
    "\n",
    "    if curr_play == player:\n",
    "      curr_play = player2\n",
    "    elif curr_play == player2:\n",
    "      curr_play = player\n",
    "    win_cond = check_winner(board_0)  \n",
    "\n",
    "    if win_cond == 1:\n",
    "      print('Player 1 wins!')\n",
    "      break\n",
    "    elif win_cond == 2:\n",
    "      print('Player 2 wins!')\n",
    "      break\n",
    "\n"
   ]
  },
  {
   "cell_type": "code",
   "execution_count": 6,
   "metadata": {},
   "outputs": [
    {
     "ename": "NameError",
     "evalue": "name 'play_tic_tac_toe' is not defined",
     "output_type": "error",
     "traceback": [
      "\u001b[0;31m---------------------------------------------------------------------------\u001b[0m",
      "\u001b[0;31mNameError\u001b[0m                                 Traceback (most recent call last)",
      "Cell \u001b[0;32mIn[6], line 1\u001b[0m\n\u001b[0;32m----> 1\u001b[0m \u001b[43mplay_tic_tac_toe\u001b[49m()\n",
      "\u001b[0;31mNameError\u001b[0m: name 'play_tic_tac_toe' is not defined"
     ]
    }
   ],
   "source": [
    "play_tic_tac_toe()"
   ]
  },
  {
   "cell_type": "markdown",
   "metadata": {},
   "source": [
    "*Exercise 10:* Test that your game works for 5x5 Tic Tac Toe.  "
   ]
  },
  {
   "cell_type": "code",
   "execution_count": 8,
   "metadata": {},
   "outputs": [
    {
     "name": "stdout",
     "output_type": "stream",
     "text": [
      "Enter a # for the size of the board:5\n",
      "  1 2 3 4 5 \n",
      "A [0] [0] [0] [0] [0] \n",
      "B [0] [0] [0] [0] [0] \n",
      "C [0] [0] [0] [0] [0] \n",
      "D [0] [0] [0] [0] [0] \n",
      "E [0] [0] [0] [0] [0] \n",
      "Would you like to be player 1 or 2?1\n",
      "\n",
      "1\n",
      "Where would you like to play?  Ex: A2, or C2  A3\n",
      "  1 2 3 4 5 \n",
      "A [0] [0] [1] [0] [0] \n",
      "B [0] [0] [0] [0] [0] \n",
      "C [0] [0] [0] [0] [0] \n",
      "D [0] [0] [0] [0] [0] \n",
      "E [0] [0] [0] [0] [0] \n",
      "\n",
      "2\n",
      "Where would you like to play?  Ex: A2, or C2  C4\n",
      "  1 2 3 4 5 \n",
      "A [0] [0] [1] [0] [0] \n",
      "B [0] [0] [0] [0] [0] \n",
      "C [0] [0] [0] [2] [0] \n",
      "D [0] [0] [0] [0] [0] \n",
      "E [0] [0] [0] [0] [0] \n",
      "\n",
      "1\n",
      "Where would you like to play?  Ex: A2, or C2  E5\n",
      "  1 2 3 4 5 \n",
      "A [0] [0] [1] [0] [0] \n",
      "B [0] [0] [0] [0] [0] \n",
      "C [0] [0] [0] [2] [0] \n",
      "D [0] [0] [0] [0] [0] \n",
      "E [0] [0] [0] [0] [1] \n",
      "\n",
      "2\n",
      "Where would you like to play?  Ex: A2, or C2  \n",
      "Bad Input. Location must be 2 characters.\n",
      "Invalid move. Please try again.\n",
      "\n",
      "1\n",
      "Where would you like to play?  Ex: A2, or C2  c\n",
      "Bad Input. Location must be 2 characters.\n",
      "Invalid move. Please try again.\n",
      "\n",
      "2\n",
      "Where would you like to play?  Ex: A2, or C2  qef\n",
      "Bad Input. Location must be 2 characters.\n",
      "Invalid move. Please try again.\n",
      "\n",
      "1\n",
      "Where would you like to play?  Ex: A2, or C2  34\n",
      "Bad Row.\n",
      "Invalid move. Please try again.\n",
      "\n",
      "2\n",
      "Where would you like to play?  Ex: A2, or C2  B4\n",
      "  1 2 3 4 5 \n",
      "A [0] [0] [1] [0] [0] \n",
      "B [0] [0] [0] [2] [0] \n",
      "C [0] [0] [0] [2] [0] \n",
      "D [0] [0] [0] [0] [0] \n",
      "E [0] [0] [0] [0] [1] \n",
      "\n",
      "1\n",
      "Where would you like to play?  Ex: A2, or C2  a1\n",
      "  1 2 3 4 5 \n",
      "A [1] [0] [1] [0] [0] \n",
      "B [0] [0] [0] [2] [0] \n",
      "C [0] [0] [0] [2] [0] \n",
      "D [0] [0] [0] [0] [0] \n",
      "E [0] [0] [0] [0] [1] \n",
      "\n",
      "2\n",
      "Where would you like to play?  Ex: A2, or C2  a4\n",
      "  1 2 3 4 5 \n",
      "A [1] [0] [1] [2] [0] \n",
      "B [0] [0] [0] [2] [0] \n",
      "C [0] [0] [0] [2] [0] \n",
      "D [0] [0] [0] [0] [0] \n",
      "E [0] [0] [0] [0] [1] \n",
      "\n",
      "1\n",
      "Where would you like to play?  Ex: A2, or C2  d1\n",
      "  1 2 3 4 5 \n",
      "A [1] [0] [1] [2] [0] \n",
      "B [0] [0] [0] [2] [0] \n",
      "C [0] [0] [0] [2] [0] \n",
      "D [1] [0] [0] [0] [0] \n",
      "E [0] [0] [0] [0] [1] \n",
      "\n",
      "2\n",
      "Where would you like to play?  Ex: A2, or C2  d4\n",
      "  1 2 3 4 5 \n",
      "A [1] [0] [1] [2] [0] \n",
      "B [0] [0] [0] [2] [0] \n",
      "C [0] [0] [0] [2] [0] \n",
      "D [1] [0] [0] [2] [0] \n",
      "E [0] [0] [0] [0] [1] \n",
      "\n",
      "1\n",
      "Where would you like to play?  Ex: A2, or C2  d2\n",
      "  1 2 3 4 5 \n",
      "A [1] [0] [1] [2] [0] \n",
      "B [0] [0] [0] [2] [0] \n",
      "C [0] [0] [0] [2] [0] \n",
      "D [1] [1] [0] [2] [0] \n",
      "E [0] [0] [0] [0] [1] \n",
      "\n",
      "2\n",
      "Where would you like to play?  Ex: A2, or C2  e4\n",
      "  1 2 3 4 5 \n",
      "A [1] [0] [1] [2] [0] \n",
      "B [0] [0] [0] [2] [0] \n",
      "C [0] [0] [0] [2] [0] \n",
      "D [1] [1] [0] [2] [0] \n",
      "E [0] [0] [0] [2] [1] \n",
      "Player 2 wins!\n"
     ]
    }
   ],
   "source": [
    "play_tic_tac_toe()"
   ]
  },
  {
   "cell_type": "markdown",
   "metadata": {},
   "source": [
    "*Exercise 11:* (Advanced / Challenge) Develop a version of the game where one player is the computer. Note that you don't need to do an extensive seach for the best move. You can have the computer simply protect against loosing and otherwise try to win with straight or diagonal patterns."
   ]
  },
  {
   "cell_type": "code",
   "execution_count": null,
   "metadata": {
    "collapsed": true
   },
   "outputs": [],
   "source": [
    "# Write you solution here"
   ]
  },
  {
   "cell_type": "code",
   "execution_count": null,
   "metadata": {
    "collapsed": true
   },
   "outputs": [],
   "source": [
    "# Test your solution here"
   ]
  }
 ],
 "metadata": {
  "kernelspec": {
   "display_name": "Python 3 (ipykernel)",
   "language": "python",
   "name": "python3"
  },
  "language_info": {
   "codemirror_mode": {
    "name": "ipython",
    "version": 3
   },
   "file_extension": ".py",
   "mimetype": "text/x-python",
   "name": "python",
   "nbconvert_exporter": "python",
   "pygments_lexer": "ipython3",
   "version": "3.12.3"
  }
 },
 "nbformat": 4,
 "nbformat_minor": 2
}
