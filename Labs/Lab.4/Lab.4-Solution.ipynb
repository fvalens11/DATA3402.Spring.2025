{
 "cells": [
  {
   "cell_type": "markdown",
   "metadata": {},
   "source": [
    "# Lab 4- Object Oriented Programming\n",
    "\n",
    "For all of the exercises below, make sure you provide tests of your solutions.\n"
   ]
  },
  {
   "cell_type": "markdown",
   "metadata": {},
   "source": [
    "1. Write a \"counter\" class that can be incremented up to a specified maximum value, will print an error if an attempt is made to increment beyond that value, and allows reseting the counter. "
   ]
  },
  {
   "cell_type": "code",
   "execution_count": 1,
   "metadata": {},
   "outputs": [
    {
     "name": "stdout",
     "output_type": "stream",
     "text": [
      "Enter a Maximum Number: 15\n"
     ]
    }
   ],
   "source": [
    "maximum= int(input('Enter a Maximum Number: '))\n",
    "\n",
    "class Counter:\n",
    "  def __init__(self,max):\n",
    "    self.max = max\n",
    "  def count(self,string):\n",
    "    count = 0\n",
    "    for char in string:\n",
    "      if char == self.max:\n",
    "        count += 1\n",
    "        if count > maximum:\n",
    "          print(\"Error: Count has reached Maximum\")\n",
    "          break\n",
    "    return count\n"
   ]
  },
  {
   "cell_type": "code",
   "execution_count": 2,
   "metadata": {},
   "outputs": [
    {
     "data": {
      "text/plain": [
       "9"
      ]
     },
     "execution_count": 2,
     "metadata": {},
     "output_type": "execute_result"
    }
   ],
   "source": [
    "Counter('p').count('appppppppple')"
   ]
  },
  {
   "cell_type": "markdown",
   "metadata": {},
   "source": [
    "2. Copy and paste your solution to question 1 and modify it so that all the data held by the counter is private. Implement functions to check the value of the counter, check the maximum value, and check if the counter is at the maximum."
   ]
  },
  {
   "cell_type": "code",
   "execution_count": 3,
   "metadata": {},
   "outputs": [
    {
     "name": "stdout",
     "output_type": "stream",
     "text": [
      "Enter a Maximum Number: 15\n"
     ]
    }
   ],
   "source": [
    "maximum= int(input('Enter a Maximum Number: '))\n",
    "\n",
    "class Counter:\n",
    "  def __init__(self,max):\n",
    "    self.max = max\n",
    "    self.private_max = max\n",
    "  def count(self,string):\n",
    "    count = 0\n",
    "    for char in string:\n",
    "      if char == self.max:\n",
    "        count += 1\n",
    "        if count > maximum:\n",
    "          print(\"Error: Count has reached Maximum\")\n",
    "          break\n",
    "    return count\n",
    "  def set_count_private(self,new_max):\n",
    "    self.private_max = new_max\n",
    "  def get_count_private(self):\n",
    "    return self.private_max\n",
    "  def check_maximum_value(self):\n",
    "    print(maximum)\n"
   ]
  },
  {
   "cell_type": "code",
   "execution_count": 4,
   "metadata": {},
   "outputs": [
    {
     "name": "stdout",
     "output_type": "stream",
     "text": [
      "15\n"
     ]
    }
   ],
   "source": [
    "Counter('a').check_maximum_value()"
   ]
  },
  {
   "cell_type": "markdown",
   "metadata": {},
   "source": [
    "3. Implement a class to represent a rectangle, holding the length, width, and $x$ and $y$ coordinates of a corner of the object. Implement functions that compute the area and perimeter of the rectangle. Make all data members private and privide accessors to retrieve values of data members. "
   ]
  },
  {
   "cell_type": "code",
   "execution_count": 5,
   "metadata": {},
   "outputs": [],
   "source": [
    "class Rectangle:\n",
    "  def __init__(self,length,width,corner_1_x,corner_1_y,corner_2_x,corner_2_y,corner_3_x,corner_3_y,corner_4_x,corner_4_y):\n",
    "    self.length = length\n",
    "    self.width = width\n",
    "    self.corner_1_x = corner_1_x\n",
    "    self.corner_1_y = corner_1_y\n",
    "    self.corner_2_x = corner_2_x\n",
    "    self.corner_2_y = corner_2_y\n",
    "    self.corner_3_x = corner_3_x\n",
    "    self.corner_3_y = corner_3_y\n",
    "    self.corner_4_x = corner_4_x\n",
    "    self.corner_4_y = corner_4_y\n",
    "    self.__private='I am private'\n",
    "  def get_private(self):\n",
    "    return self.__private\n",
    "  def set_private(self,new_private):\n",
    "    self.__private = new_private\n",
    "  def area(self):\n",
    "    return self.length * self.width\n",
    "  def perimeter(self):\n",
    "    return 2 * (self.length + self.width)\n"
   ]
  },
  {
   "cell_type": "code",
   "execution_count": 6,
   "metadata": {},
   "outputs": [
    {
     "data": {
      "text/plain": [
       "30"
      ]
     },
     "execution_count": 6,
     "metadata": {},
     "output_type": "execute_result"
    }
   ],
   "source": [
    "Rectangle(5,6,0,0,0,5,0,6,5,6).area()"
   ]
  },
  {
   "cell_type": "code",
   "execution_count": 8,
   "metadata": {},
   "outputs": [
    {
     "data": {
      "text/plain": [
       "22"
      ]
     },
     "execution_count": 8,
     "metadata": {},
     "output_type": "execute_result"
    }
   ],
   "source": [
    "Rectangle(5,6,0,0,0,5,0,6,5,6).perimeter()"
   ]
  },
  {
   "cell_type": "markdown",
   "metadata": {},
   "source": [
    "4. Implement a class to represent a circle, holding the radius and $x$ and $y$ coordinates of center of the object. Implement functions that compute the area and perimeter of the rectangle. Make all data members private and privide accessors to retrieve values of data members. "
   ]
  },
  {
   "cell_type": "code",
   "execution_count": 10,
   "metadata": {},
   "outputs": [],
   "source": [
    "class Circle:\n",
    "  def __init__(self,radius,x_center,y_center):\n",
    "    self.radius = radius\n",
    "    self.x_center = x_center\n",
    "    self.y_center = y_center\n",
    "    self.__private='I am private'\n",
    "  def get_private(self):\n",
    "    return self.__private\n",
    "  def set_private(self,new_private):\n",
    "    self.__private = new_private\n",
    "  def area(self):\n",
    "    return 3.14 * self.radius ** 2\n",
    "  def perimeter(self):\n",
    "    return 2 * 3.14 * self.radius"
   ]
  },
  {
   "cell_type": "code",
   "execution_count": 11,
   "metadata": {},
   "outputs": [
    {
     "data": {
      "text/plain": [
       "78.5"
      ]
     },
     "execution_count": 11,
     "metadata": {},
     "output_type": "execute_result"
    }
   ],
   "source": [
    "Circle(5,0,0).area()"
   ]
  },
  {
   "cell_type": "markdown",
   "metadata": {},
   "source": [
    "5. Implement a common base class for the classes implemented in 3 and 4 above which implements all common methods as not implemented functions (virtual). Re-implement your regtangle and circule classes to inherit from the base class and overload the functions accordingly. "
   ]
  },
  {
   "cell_type": "code",
   "execution_count": 19,
   "metadata": {},
   "outputs": [],
   "source": [
    "class Shapes:\n",
    "  def __init__(self,shape):\n",
    "    self.shape = shape\n",
    "    self.__private='I am private'\n",
    "  def get_private(self):\n",
    "    return self.__private\n",
    "  def set_private(self,new_private):\n",
    "    self.__private = new_private\n",
    "\n",
    "class Rectangle(Shapes):\n",
    "  def __init__(self,length,width,corner_1_x,corner_1_y,corner_2_x,corner_2_y,corner_3_x,corner_3_y,corner_4_x,corner_4_y,**kargs):\n",
    "    self.length = length\n",
    "    self.width = width\n",
    "    self.corner_1_x = corner_1_x\n",
    "    self.corner_1_y = corner_1_y\n",
    "    self.corner_2_x = corner_2_x\n",
    "    self.corner_2_y = corner_2_y\n",
    "    self.corner_3_x = corner_3_x\n",
    "    self.corner_3_y = corner_3_y\n",
    "    self.corner_4_x = corner_4_x\n",
    "    self.corner_4_y = corner_4_y\n",
    "    super().__init__('Rectangle')\n",
    "class Circle(Shapes):\n",
    "  def __init__(self,radius,x_center,y_center,**kargs):\n",
    "    self.radius = radius\n",
    "    self.x_center = x_center\n",
    "    self.y_center = y_center\n",
    "    super().__init__('Circle')\n",
    "class Triangle(Shapes):\n",
    "  def __init__(self,side_1,side_2,side_3,x_1,y_1,x_2,y_2,x_3,y_3,**kargs):\n",
    "    self.side_1 = side_1\n",
    "    self.side_2 = side_2\n",
    "    self.side_3 = side_3\n",
    "    self.x_1 = x_1\n",
    "    self.y_1 = y_1\n",
    "    self.x_2 = x_2\n",
    "    self.y_2 = y_2\n",
    "    self.x_3 = x_3\n",
    "    self.y_3 = y_3\n",
    "    super().__init__('Triangle')"
   ]
  },
  {
   "cell_type": "markdown",
   "metadata": {},
   "source": [
    "6. Implement a triangle class analogous to the rectangle and circle in question 5."
   ]
  },
  {
   "cell_type": "code",
   "execution_count": 13,
   "metadata": {},
   "outputs": [],
   "source": [
    "class Triangle:\n",
    "  def __init__(self,side_1,side_2,side_3,x_1,y_1,x_2,y_2,x_3,y_3):\n",
    "    self.side_1 = side_1\n",
    "    self.side_2 = side_2\n",
    "    self.side_3 = side_3\n",
    "    self.x_1 = x_1\n",
    "    self.y_1 = y_1\n",
    "    self.x_2 = x_2\n",
    "    self.y_2 = y_2\n",
    "    self.x_3 = x_3\n",
    "    self.y_3 = y_3\n",
    "    self.__private='I am private'\n",
    "  def get_private(self):\n",
    "    return self.__private\n",
    "  def set_private(self,new_private):\n",
    "    self.__private = new_private\n",
    "  def area(self):\n",
    "    return (self.side_1 * self.side_2) / 2\n",
    "  def perimeter(self):\n",
    "    return self.side_1 + self.side_2 + self.side_3"
   ]
  },
  {
   "cell_type": "code",
   "execution_count": 14,
   "metadata": {},
   "outputs": [
    {
     "data": {
      "text/plain": [
       "6.0"
      ]
     },
     "execution_count": 14,
     "metadata": {},
     "output_type": "execute_result"
    }
   ],
   "source": [
    "Triangle(3,4,5,0,0,3,0,3,4).area()"
   ]
  },
  {
   "cell_type": "code",
   "execution_count": 15,
   "metadata": {},
   "outputs": [],
   "source": [
    "import math\n",
    "from math import sqrt\n",
    "from math import cos\n",
    "from math import sin\n",
    "from math import pi"
   ]
  },
  {
   "cell_type": "markdown",
   "metadata": {},
   "source": [
    "7. Add a function to the object classes, including the base, that returns a list of up to 16 pairs of  $x$ and $y$ points on the parameter of the object. "
   ]
  },
  {
   "cell_type": "code",
   "execution_count": 20,
   "metadata": {},
   "outputs": [],
   "source": [
    "class Shapes:\n",
    "  def __init__(self,shape):\n",
    "    self.shape = shape\n",
    "    self.__private='I am private'\n",
    "  def get_private(self):\n",
    "    return self.__private\n",
    "  def set_private(self,new_private):\n",
    "    self.__private = new_private\n",
    "\n",
    "class Rectangle(Shapes):\n",
    "  def __init__(self,length,width,corner_1_x,corner_1_y,corner_2_x,corner_2_y,corner_3_x,corner_3_y,corner_4_x,corner_4_y,**kargs):\n",
    "    self.length = length\n",
    "    self.width = width\n",
    "    self.corner_1_x = corner_1_x\n",
    "    self.corner_1_y = corner_1_y\n",
    "    self.corner_2_x = corner_2_x\n",
    "    self.corner_2_y = corner_2_y\n",
    "    self.corner_3_x = corner_3_x\n",
    "    self.corner_3_y = corner_3_y\n",
    "    self.corner_4_x = corner_4_x\n",
    "    self.corner_4_y = corner_4_y\n",
    "    super().__init__('Rectangle')\n",
    "  def points_along_perimeter(self):\n",
    "    if self.length >= 16:\n",
    "      print('Point 1: ', self.corner_1_x+1, self.corner_1_y)\n",
    "      print('Point 2: ', self.corner_1_x+2, self.corner_1_y)\n",
    "      print('Point 3: ', self.corner_1_x+3, self.corner_1_y)\n",
    "      print('Point 4: ', self.corner_1_x+4, self.corner_1_y)\n",
    "      print('Point 5: ', self.corner_1_x+5, self.corner_1_y)\n",
    "      print('Point 6: ', self.corner_1_x+6, self.corner_1_y)\n",
    "      print('Point 7: ', self.corner_1_x+7, self.corner_1_y)\n",
    "      print('Point 8: ', self.corner_1_x+8, self.corner_1_y)\n",
    "      print('Point 9: ', self.corner_1_x+9, self.corner_1_y)\n",
    "      print('Point 10: ', self.corner_1_x+10, self.corner_1_y)\n",
    "      print('Point 11: ', self.corner_1_x+11, self.corner_1_y)\n",
    "      print('Point 12: ', self.corner_1_x+12, self.corner_1_y)\n",
    "      print('Point 13: ', self.corner_1_x+13, self.corner_1_y)\n",
    "      print('Point 14: ', self.corner_1_x+14, self.corner_1_y)\n",
    "      print('Point 15: ', self.corner_1_x+15, self.corner_1_y)\n",
    "      print('Point 16: ', self.corner_1_x+16, self.corner_1_y)\n",
    "    elif self.length > 8 and self.length < 16 and self.width > 8 and self.width < 16:\n",
    "      print('Point 1: ', self.corner_1_x+1, self.corner_1_y)\n",
    "      print('Point 2: ', self.corner_1_x+2, self.corner_1_y)\n",
    "      print('Point 3: ', self.corner_1_x+3, self.corner_1_y)\n",
    "      print('Point 4: ', self.corner_1_x+4, self.corner_1_y)\n",
    "      print('Point 5: ', self.corner_1_x+5, self.corner_1_y)\n",
    "      print('Point 6: ', self.corner_1_x+6, self.corner_1_y)\n",
    "      print('Point 7: ', self.corner_1_x+7, self.corner_1_y)\n",
    "      print('Point 8: ', self.corner_1_x+8, self.corner_1_y)\n",
    "      print('Point 9: ', self.corner_1_x, self.corner_1_y+1)\n",
    "      print('Point 10: ', self.corner_1_x, self.corner_1_y+2)\n",
    "      print('Point 11: ', self.corner_1_x, self.corner_1_y+3)\n",
    "      print('Point 12: ', self.corner_1_x, self.corner_1_y+4)\n",
    "      print('Point 13: ', self.corner_1_x, self.corner_1_y+5)\n",
    "      print('Point 14: ', self.corner_1_x, self.corner_1_y+6)\n",
    "      print('Point 15: ', self.corner_1_x, self.corner_1_y+7)\n",
    "      print('Point 16: ', self.corner_1_x, self.corner_1_y+8)\n",
    "    else:\n",
    "      return False  \n",
    "class Circle(Shapes):\n",
    "  def __init__(self,radius,x_center,y_center,**kargs):\n",
    "    self.radius = radius\n",
    "    self.x_center = x_center\n",
    "    self.y_center = y_center\n",
    "    super().__init__('Circle')\n",
    "  def points_along_perimeter(self):\n",
    "    print(\"Point 1: \", self.radius*cos(0),self.radius*sin(0))\n",
    "    print(\"Point 2: \", self.radius*cos(3.14/16),self.radius*sin(3.14/16))\n",
    "    print(\"Point 3: \", self.radius*cos(3.14/8),self.radius*sin(3.14/8))\n",
    "    print(\"Point 4: \", self.radius*cos(9.51/16),self.radius*sin(9.51/16))\n",
    "    print(\"Point 5: \", self.radius*cos(3.14/4),self.radius*sin(3.14/4))\n",
    "    print(\"Point 6: \", self.radius*cos(15.7/16),self.radius*sin(15.7/16))\n",
    "    print(\"Point 7: \", self.radius*cos(9.51/8),self.radius*sin(9.51/8))\n",
    "    print(\"Point 8: \", self.radius*cos(21.98/16),self.radius*sin(21.98/16))\n",
    "    print(\"Point 9: \", self.radius*cos(3.14/2),self.radius*sin(3.14/2))\n",
    "    print(\"Point 10: \", self.radius*cos(28.26/16),self.radius*sin(28.26/16))\n",
    "    print(\"Point 11: \", self.radius*cos(15.7/8),self.radius*sin(15.7/8))\n",
    "    print(\"Point 12: \", self.radius*cos(34.54/16),self.radius*sin(34.54/16))\n",
    "    print(\"Point 13: \", self.radius*cos(9.51/16),self.radius*sin(9.51/16))\n",
    "    print(\"Point 14: \", self.radius*cos(40.82/16),self.radius*sin(40.82/16))\n",
    "    print(\"Point 15: \", self.radius*cos(21.98/8),self.radius*sin(21.98/8))\n",
    "    print(\"Point 16: \", self.radius*cos(47.1/16),self.radius*sin(47.1/16))  \n",
    "class Triangle(Shapes):\n",
    "  def __init__(self,side_1,side_2,side_3,x_1,y_1,x_2,y_2,x_3,y_3,**kargs):\n",
    "    self.side_1 = side_1\n",
    "    self.side_2 = side_2\n",
    "    self.side_3 = side_3\n",
    "    self.x_1 = x_1\n",
    "    self.y_1 = y_1\n",
    "    self.x_2 = x_2\n",
    "    self.y_2 = y_2\n",
    "    self.x_3 = x_3\n",
    "    self.y_3 = y_3\n",
    "    super().__init__('Triangle')\n",
    "  def points_along_perimeter(self):\n",
    "    print(\"Point 1: \", self.x_1, self.y_1)\n",
    "    print(\"Point 2: \", self.x_2, self.y_2)\n",
    "    print(\"Point 3: \", self.x_3, self.y_3)\n",
    "    print(\"Point 4: \", self.x_1+1, self.y_1)\n",
    "    print(\"Point 5: \", self.x_1+2, self.y_1)\n",
    "    print(\"Point 6: \", self.x_1+3, self.y_1)\n",
    "    print(\"Point 7: \", self.x_1+4, self.y_1)\n",
    "    print(\"Point 8: \", self.x_1+5, self.y_1)\n",
    "    print(\"Point 9: \", self.x_1+6, self.y_1)\n",
    "    print(\"Point 10: \", self.x_1+7, self.y_1)\n",
    "    print(\"Point 11: \", self.x_1+8, self.y_1)\n",
    "    print(\"Point 12: \", self.x_1+9, self.y_1)\n",
    "    print(\"Point 13: \", self.x_1+10, self.y_1)\n",
    "    print(\"Point 14: \", self.x_1+11, self.y_1)\n",
    "    print(\"Point 15: \", self.x_1+12, self.y_1)\n",
    "    print(\"Point 16: \", self.x_1+13, self.y_1)  "
   ]
  },
  {
   "cell_type": "code",
   "execution_count": 17,
   "metadata": {},
   "outputs": [
    {
     "name": "stdout",
     "output_type": "stream",
     "text": [
      "Point 1:  0 0\n",
      "Point 2:  20 0\n",
      "Point 3:  20 21\n",
      "Point 4:  1 0\n",
      "Point 5:  2 0\n",
      "Point 6:  3 0\n",
      "Point 7:  4 0\n",
      "Point 8:  5 0\n",
      "Point 9:  6 0\n",
      "Point 10:  7 0\n",
      "Point 11:  8 0\n",
      "Point 12:  9 0\n",
      "Point 13:  10 0\n",
      "Point 14:  11 0\n",
      "Point 15:  12 0\n",
      "Point 16:  13 0\n"
     ]
    }
   ],
   "source": [
    "Triangle(20,21,29,0,0,20,0,20,21).points_along_perimeter()"
   ]
  },
  {
   "cell_type": "code",
   "execution_count": 23,
   "metadata": {},
   "outputs": [
    {
     "name": "stdout",
     "output_type": "stream",
     "text": [
      "Point 1:  1 0\n",
      "Point 2:  2 0\n",
      "Point 3:  3 0\n",
      "Point 4:  4 0\n",
      "Point 5:  5 0\n",
      "Point 6:  6 0\n",
      "Point 7:  7 0\n",
      "Point 8:  8 0\n",
      "Point 9:  0 1\n",
      "Point 10:  0 2\n",
      "Point 11:  0 3\n",
      "Point 12:  0 4\n",
      "Point 13:  0 5\n",
      "Point 14:  0 6\n",
      "Point 15:  0 7\n",
      "Point 16:  0 8\n"
     ]
    }
   ],
   "source": [
    "Rectangle(10,11,0,0,10,0,0,11,10,11).points_along_perimeter()"
   ]
  },
  {
   "cell_type": "code",
   "execution_count": 24,
   "metadata": {},
   "outputs": [
    {
     "name": "stdout",
     "output_type": "stream",
     "text": [
      "Point 1:  5.0 0.0\n",
      "Point 2:  4.904023475002786 0.9749634642496087\n",
      "Point 3:  4.61977849735136 1.9124974863800484\n",
      "Point 4:  4.14249327520298 2.799955261231522\n",
      "Point 5:  3.5369413458359986 3.53412590552683\n",
      "Point 6:  2.7799199507481926 4.155964998340598\n",
      "Point 7:  1.864100214040768 4.639518336208314\n",
      "Point 8:  0.9788683600029396 4.903245530644488\n",
      "Point 9:  0.003981633553666317 4.999998414659173\n",
      "Point 10:  -0.9710579502365242 4.904798309541631\n",
      "Point 11:  -1.9088180269728663 4.621300005399283\n",
      "Point 12:  -2.773297415276852 4.160387175061803\n",
      "Point 13:  4.14249327520298 2.799955261231522\n",
      "Point 14:  -4.153749956105919 2.783228575261125\n",
      "Point 15:  -4.616726693514062 1.9198527645094856\n",
      "Point 16:  -4.902464476960063 0.9827726350202803\n"
     ]
    }
   ],
   "source": [
    "Circle(5,0,0).points_along_perimeter()"
   ]
  },
  {
   "cell_type": "markdown",
   "metadata": {},
   "source": [
    "8. Add a function to the object classes, including the base, that tests if a given set of $x$ and $y$ coordinates are inside of the object. You'll have to think through how to determine if a set of coordinates are inside an object for each object type."
   ]
  },
  {
   "cell_type": "code",
   "execution_count": 25,
   "metadata": {},
   "outputs": [],
   "source": [
    "class Shapes:\n",
    "  def __init__(self,shape):\n",
    "    self.shape = shape\n",
    "    self.__private='I am private'\n",
    "  def get_private(self):\n",
    "    return self.__private\n",
    "  def set_private(self,new_private):\n",
    "    self.__private = new_private\n",
    "\n",
    "class Rectangle(Shapes):\n",
    "  def __init__(self,length,width,corner_1_x,corner_1_y,corner_2_x,corner_2_y,corner_3_x,corner_3_y,corner_4_x,corner_4_y,**kargs):\n",
    "    self.length = length\n",
    "    self.width = width\n",
    "    self.corner_1_x = corner_1_x\n",
    "    self.corner_1_y = corner_1_y\n",
    "    self.corner_2_x = corner_2_x\n",
    "    self.corner_2_y = corner_2_y\n",
    "    self.corner_3_x = corner_3_x\n",
    "    self.corner_3_y = corner_3_y\n",
    "    self.corner_4_x = corner_4_x\n",
    "    self.corner_4_y = corner_4_y\n",
    "    super().__init__('Rectangle')\n",
    "  def points_along_perimeter(self):\n",
    "    if self.length >= 16:\n",
    "      print('Point 1: ', self.corner_1_x+1, self.corner_1_y)\n",
    "      print('Point 2: ', self.corner_1_x+2, self.corner_1_y)\n",
    "      print('Point 3: ', self.corner_1_x+3, self.corner_1_y)\n",
    "      print('Point 4: ', self.corner_1_x+4, self.corner_1_y)\n",
    "      print('Point 5: ', self.corner_1_x+5, self.corner_1_y)\n",
    "      print('Point 6: ', self.corner_1_x+6, self.corner_1_y)\n",
    "      print('Point 7: ', self.corner_1_x+7, self.corner_1_y)\n",
    "      print('Point 8: ', self.corner_1_x+8, self.corner_1_y)\n",
    "      print('Point 9: ', self.corner_1_x+9, self.corner_1_y)\n",
    "      print('Point 10: ', self.corner_1_x+10, self.corner_1_y)\n",
    "      print('Point 11: ', self.corner_1_x+11, self.corner_1_y)\n",
    "      print('Point 12: ', self.corner_1_x+12, self.corner_1_y)\n",
    "      print('Point 13: ', self.corner_1_x+13, self.corner_1_y)\n",
    "      print('Point 14: ', self.corner_1_x+14, self.corner_1_y)\n",
    "      print('Point 15: ', self.corner_1_x+15, self.corner_1_y)\n",
    "      print('Point 16: ', self.corner_1_x+16, self.corner_1_y)\n",
    "    elif self.length > 8 and self.length < 16 and self.width > 8 and self.width < 16:\n",
    "      print('Point 1: ', self.corner_1_x+1, self.corner_1_y)\n",
    "      print('Point 2: ', self.corner_1_x+2, self.corner_1_y)\n",
    "      print('Point 3: ', self.corner_1_x+3, self.corner_1_y)\n",
    "      print('Point 4: ', self.corner_1_x+4, self.corner_1_y)\n",
    "      print('Point 5: ', self.corner_1_x+5, self.corner_1_y)\n",
    "      print('Point 6: ', self.corner_1_x+6, self.corner_1_y)\n",
    "      print('Point 7: ', self.corner_1_x+7, self.corner_1_y)\n",
    "      print('Point 8: ', self.corner_1_x+8, self.corner_1_y)\n",
    "      print('Point 9: ', self.corner_1_x, self.corner_1_y+1)\n",
    "      print('Point 10: ', self.corner_1_x, self.corner_1_y+2)\n",
    "      print('Point 11: ', self.corner_1_x, self.corner_1_y+3)\n",
    "      print('Point 12: ', self.corner_1_x, self.corner_1_y+4)\n",
    "      print('Point 13: ', self.corner_1_x, self.corner_1_y+5)\n",
    "      print('Point 14: ', self.corner_1_x, self.corner_1_y+6)\n",
    "      print('Point 15: ', self.corner_1_x, self.corner_1_y+7)\n",
    "      print('Point 16: ', self.corner_1_x, self.corner_1_y+8)\n",
    "    else:\n",
    "      return False  \n",
    "  def point_in_rectangle(self,x,y):\n",
    "    if x >= self.corner_1_x and x <= self.corner_2_x and y >= self.corner_1_y and y <= self.corner_4_y:\n",
    "      return True\n",
    "    else:\n",
    "      return False\n",
    "class Circle(Shapes):\n",
    "  def __init__(self,radius,x_center,y_center,**kargs):\n",
    "    self.radius = radius\n",
    "    self.x_center = x_center\n",
    "    self.y_center = y_center\n",
    "    super().__init__('Circle')\n",
    "  def points_along_perimeter(self):\n",
    "    print(\"Point 1: \", self.radius*cos(0),self.radius*sin(0))\n",
    "    print(\"Point 2: \", self.radius*cos(3.14/16),self.radius*sin(3.14/16))\n",
    "    print(\"Point 3: \", self.radius*cos(3.14/8),self.radius*sin(3.14/8))\n",
    "    print(\"Point 4: \", self.radius*cos(9.51/16),self.radius*sin(9.51/16))\n",
    "    print(\"Point 5: \", self.radius*cos(3.14/4),self.radius*sin(3.14/4))\n",
    "    print(\"Point 6: \", self.radius*cos(15.7/16),self.radius*sin(15.7/16))\n",
    "    print(\"Point 7: \", self.radius*cos(9.51/8),self.radius*sin(9.51/8))\n",
    "    print(\"Point 8: \", self.radius*cos(21.98/16),self.radius*sin(21.98/16))\n",
    "    print(\"Point 9: \", self.radius*cos(3.14/2),self.radius*sin(3.14/2))\n",
    "    print(\"Point 10: \", self.radius*cos(28.26/16),self.radius*sin(28.26/16))\n",
    "    print(\"Point 11: \", self.radius*cos(15.7/8),self.radius*sin(15.7/8))\n",
    "    print(\"Point 12: \", self.radius*cos(34.54/16),self.radius*sin(34.54/16))\n",
    "    print(\"Point 13: \", self.radius*cos(9.51/16),self.radius*sin(9.51/16))\n",
    "    print(\"Point 14: \", self.radius*cos(40.82/16),self.radius*sin(40.82/16))\n",
    "    print(\"Point 15: \", self.radius*cos(21.98/8),self.radius*sin(21.98/8))\n",
    "    print(\"Point 16: \", self.radius*cos(47.1/16),self.radius*sin(47.1/16)) \n",
    "  def points_in_circle(self,x,y):\n",
    "    if sqrt((x-self.x_center)**2 + (y-self.y_center)**2) <= self.radius:\n",
    "      return True\n",
    "    else:\n",
    "      return False  \n",
    "class Triangle(Shapes):\n",
    "  def __init__(self,side_1,side_2,side_3,x_1,y_1,x_2,y_2,x_3,y_3,**kargs):\n",
    "    self.side_1 = side_1\n",
    "    self.side_2 = side_2\n",
    "    self.side_3 = side_3\n",
    "    self.x_1 = x_1\n",
    "    self.y_1 = y_1\n",
    "    self.x_2 = x_2\n",
    "    self.y_2 = y_2\n",
    "    self.x_3 = x_3\n",
    "    self.y_3 = y_3\n",
    "    super().__init__('Triangle')\n",
    "  def points_along_perimeter(self):\n",
    "    print(\"Point 1: \", self.x_1, self.y_1)\n",
    "    print(\"Point 2: \", self.x_2, self.y_2)\n",
    "    print(\"Point 3: \", self.x_3, self.y_3)\n",
    "    print(\"Point 4: \", self.x_1+1, self.y_1)\n",
    "    print(\"Point 5: \", self.x_1+2, self.y_1)\n",
    "    print(\"Point 6: \", self.x_1+3, self.y_1)\n",
    "    print(\"Point 7: \", self.x_1+4, self.y_1)\n",
    "    print(\"Point 8: \", self.x_1+5, self.y_1)\n",
    "    print(\"Point 9: \", self.x_1+6, self.y_1)\n",
    "    print(\"Point 10: \", self.x_1+7, self.y_1)\n",
    "    print(\"Point 11: \", self.x_1+8, self.y_1)\n",
    "    print(\"Point 12: \", self.x_1+9, self.y_1)\n",
    "    print(\"Point 13: \", self.x_1+10, self.y_1)\n",
    "    print(\"Point 14: \", self.x_1+11, self.y_1)\n",
    "    print(\"Point 15: \", self.x_1+12, self.y_1)\n",
    "    print(\"Point 16: \", self.x_1+13, self.y_1)  \n",
    "  def points_in_triangle(self,x,y):\n",
    "    if x >= self.x_1 and x <= self.x_2 and y >= self.y_1 and y >= self.y_2 and y <= self.y_3:\n",
    "      return True\n",
    "    else:\n",
    "      return False  "
   ]
  },
  {
   "cell_type": "code",
   "execution_count": 26,
   "metadata": {},
   "outputs": [
    {
     "data": {
      "text/plain": [
       "True"
      ]
     },
     "execution_count": 26,
     "metadata": {},
     "output_type": "execute_result"
    }
   ],
   "source": [
    "Triangle(3,4,5,0,0,3,0,3,4).points_in_triangle(2,2)"
   ]
  },
  {
   "cell_type": "markdown",
   "metadata": {},
   "source": [
    "9. Add a function in the base class of the object classes that returns true/false testing that the object overlaps with another object."
   ]
  },
  {
   "cell_type": "code",
   "execution_count": 27,
   "metadata": {},
   "outputs": [],
   "source": [
    "class Shapes:\n",
    "  def __init__(self,shape):\n",
    "    self.shape = shape\n",
    "    self.__private='I am private'\n",
    "  def get_private(self):\n",
    "    return self.__private\n",
    "  def set_private(self,new_private):\n",
    "    self.__private = new_private\n",
    "\n",
    "class Rectangle(Shapes):\n",
    "  def __init__(self,length,width,corner_1_x,corner_1_y,corner_2_x,corner_2_y,corner_3_x,corner_3_y,corner_4_x,corner_4_y,**kargs):\n",
    "    self.length = length\n",
    "    self.width = width\n",
    "    self.corner_1_x = corner_1_x\n",
    "    self.corner_1_y = corner_1_y\n",
    "    self.corner_2_x = corner_2_x\n",
    "    self.corner_2_y = corner_2_y\n",
    "    self.corner_3_x = corner_3_x\n",
    "    self.corner_3_y = corner_3_y\n",
    "    self.corner_4_x = corner_4_x\n",
    "    self.corner_4_y = corner_4_y\n",
    "    super().__init__('Rectangle')\n",
    "  def points_along_perimeter(self):\n",
    "    if self.length >= 16:\n",
    "      print('Point 1: ', self.corner_1_x+1, self.corner_1_y)\n",
    "      print('Point 2: ', self.corner_1_x+2, self.corner_1_y)\n",
    "      print('Point 3: ', self.corner_1_x+3, self.corner_1_y)\n",
    "      print('Point 4: ', self.corner_1_x+4, self.corner_1_y)\n",
    "      print('Point 5: ', self.corner_1_x+5, self.corner_1_y)\n",
    "      print('Point 6: ', self.corner_1_x+6, self.corner_1_y)\n",
    "      print('Point 7: ', self.corner_1_x+7, self.corner_1_y)\n",
    "      print('Point 8: ', self.corner_1_x+8, self.corner_1_y)\n",
    "      print('Point 9: ', self.corner_1_x+9, self.corner_1_y)\n",
    "      print('Point 10: ', self.corner_1_x+10, self.corner_1_y)\n",
    "      print('Point 11: ', self.corner_1_x+11, self.corner_1_y)\n",
    "      print('Point 12: ', self.corner_1_x+12, self.corner_1_y)\n",
    "      print('Point 13: ', self.corner_1_x+13, self.corner_1_y)\n",
    "      print('Point 14: ', self.corner_1_x+14, self.corner_1_y)\n",
    "      print('Point 15: ', self.corner_1_x+15, self.corner_1_y)\n",
    "      print('Point 16: ', self.corner_1_x+16, self.corner_1_y)\n",
    "    elif self.length > 8 and self.length < 16 and self.width > 8 and self.width < 16:\n",
    "      print('Point 1: ', self.corner_1_x+1, self.corner_1_y)\n",
    "      print('Point 2: ', self.corner_1_x+2, self.corner_1_y)\n",
    "      print('Point 3: ', self.corner_1_x+3, self.corner_1_y)\n",
    "      print('Point 4: ', self.corner_1_x+4, self.corner_1_y)\n",
    "      print('Point 5: ', self.corner_1_x+5, self.corner_1_y)\n",
    "      print('Point 6: ', self.corner_1_x+6, self.corner_1_y)\n",
    "      print('Point 7: ', self.corner_1_x+7, self.corner_1_y)\n",
    "      print('Point 8: ', self.corner_1_x+8, self.corner_1_y)\n",
    "      print('Point 9: ', self.corner_1_x, self.corner_1_y+1)\n",
    "      print('Point 10: ', self.corner_1_x, self.corner_1_y+2)\n",
    "      print('Point 11: ', self.corner_1_x, self.corner_1_y+3)\n",
    "      print('Point 12: ', self.corner_1_x, self.corner_1_y+4)\n",
    "      print('Point 13: ', self.corner_1_x, self.corner_1_y+5)\n",
    "      print('Point 14: ', self.corner_1_x, self.corner_1_y+6)\n",
    "      print('Point 15: ', self.corner_1_x, self.corner_1_y+7)\n",
    "      print('Point 16: ', self.corner_1_x, self.corner_1_y+8)\n",
    "    else:\n",
    "      return False  \n",
    "  def point_in_rectangle(self,x,y):\n",
    "    if x >= self.corner_1_x and x <= self.corner_2_x and y >= self.corner_1_y and y <= self.corner_4_y:\n",
    "      return True\n",
    "    else:\n",
    "      return False\n",
    "\n",
    "  def is_object_overlapped(self,other):\n",
    "    if self == other:\n",
    "      return True\n",
    "    else:\n",
    "      return False\n",
    "class Circle(Shapes):\n",
    "  def __init__(self,radius,x_center,y_center,**kargs):\n",
    "    self.radius = radius\n",
    "    self.x_center = x_center\n",
    "    self.y_center = y_center\n",
    "    super().__init__('Circle')\n",
    "  def points_along_perimeter(self):\n",
    "    print(\"Point 1: \", self.radius*cos(0),self.radius*sin(0))\n",
    "    print(\"Point 2: \", self.radius*cos(3.14/16),self.radius*sin(3.14/16))\n",
    "    print(\"Point 3: \", self.radius*cos(3.14/8),self.radius*sin(3.14/8))\n",
    "    print(\"Point 4: \", self.radius*cos(9.51/16),self.radius*sin(9.51/16))\n",
    "    print(\"Point 5: \", self.radius*cos(3.14/4),self.radius*sin(3.14/4))\n",
    "    print(\"Point 6: \", self.radius*cos(15.7/16),self.radius*sin(15.7/16))\n",
    "    print(\"Point 7: \", self.radius*cos(9.51/8),self.radius*sin(9.51/8))\n",
    "    print(\"Point 8: \", self.radius*cos(21.98/16),self.radius*sin(21.98/16))\n",
    "    print(\"Point 9: \", self.radius*cos(3.14/2),self.radius*sin(3.14/2))\n",
    "    print(\"Point 10: \", self.radius*cos(28.26/16),self.radius*sin(28.26/16))\n",
    "    print(\"Point 11: \", self.radius*cos(15.7/8),self.radius*sin(15.7/8))\n",
    "    print(\"Point 12: \", self.radius*cos(34.54/16),self.radius*sin(34.54/16))\n",
    "    print(\"Point 13: \", self.radius*cos(9.51/16),self.radius*sin(9.51/16))\n",
    "    print(\"Point 14: \", self.radius*cos(40.82/16),self.radius*sin(40.82/16))\n",
    "    print(\"Point 15: \", self.radius*cos(21.98/8),self.radius*sin(21.98/8))\n",
    "    print(\"Point 16: \", self.radius*cos(47.1/16),self.radius*sin(47.1/16)) \n",
    "  def points_in_circle(self,x,y):\n",
    "    if sqrt((x-self.x_center)**2 + (y-self.y_center)**2) <= self.radius:\n",
    "      return True\n",
    "    else:\n",
    "      return False\n",
    "\n",
    "  def is_object_overlapped(self,other):\n",
    "    if self == other:\n",
    "      return True\n",
    "    else:\n",
    "      return False\n",
    "class Triangle(Shapes):\n",
    "  def __init__(self,side_1,side_2,side_3,x_1,y_1,x_2,y_2,x_3,y_3,**kargs):\n",
    "    self.side_1 = side_1\n",
    "    self.side_2 = side_2\n",
    "    self.side_3 = side_3\n",
    "    self.x_1 = x_1\n",
    "    self.y_1 = y_1\n",
    "    self.x_2 = x_2\n",
    "    self.y_2 = y_2\n",
    "    self.x_3 = x_3\n",
    "    self.y_3 = y_3\n",
    "    super().__init__('Triangle')\n",
    "  def points_along_perimeter(self):\n",
    "    print(\"Point 1: \", self.x_1, self.y_1)\n",
    "    print(\"Point 2: \", self.x_2, self.y_2)\n",
    "    print(\"Point 3: \", self.x_3, self.y_3)\n",
    "    print(\"Point 4: \", self.x_1+1, self.y_1)\n",
    "    print(\"Point 5: \", self.x_1+2, self.y_1)\n",
    "    print(\"Point 6: \", self.x_1+3, self.y_1)\n",
    "    print(\"Point 7: \", self.x_1+4, self.y_1)\n",
    "    print(\"Point 8: \", self.x_1+5, self.y_1)\n",
    "    print(\"Point 9: \", self.x_1+6, self.y_1)\n",
    "    print(\"Point 10: \", self.x_1+7, self.y_1)\n",
    "    print(\"Point 11: \", self.x_1+8, self.y_1)\n",
    "    print(\"Point 12: \", self.x_1+9, self.y_1)\n",
    "    print(\"Point 13: \", self.x_1+10, self.y_1)\n",
    "    print(\"Point 14: \", self.x_1+11, self.y_1)\n",
    "    print(\"Point 15: \", self.x_1+12, self.y_1)\n",
    "    print(\"Point 16: \", self.x_1+13, self.y_1)  \n",
    "  def points_in_triangle(self,x,y):\n",
    "    if x >= self.x_1 and x <= self.x_2 and y >= self.y_1 and y >= self.y_2 and y <= self.y_3:\n",
    "      return True\n",
    "    else:\n",
    "      return False  \n",
    "\n",
    "  def is_object_overlapped(self,other):\n",
    "    if self == other:\n",
    "      return True\n",
    "    else:\n",
    "      return False"
   ]
  },
  {
   "cell_type": "markdown",
   "metadata": {},
   "source": [
    "10. Copy the `Canvas` class from lecture to in a python file creating a `paint` module. Copy your classes from above into the module and implement paint functions. Implement a `CompoundShape` class. Create a simple drawing demonstrating that all of your classes are working."
   ]
  },
  {
   "cell_type": "code",
   "execution_count": 28,
   "metadata": {},
   "outputs": [],
   "source": [
    "class Canvas:\n",
    "    def __init__(self, width, height):\n",
    "        self.width = width\n",
    "        self.height = height\n",
    "        self.data = [[' '] * width for i in range(height)]\n",
    "\n",
    "    def set_pixel(self, row, col, char='*'):\n",
    "        self.data[row][col] = char\n",
    "\n",
    "    def get_pixel(self, row, col):\n",
    "        return self.data[row][col]\n",
    "\n",
    "    def clear_canvas(self):\n",
    "        self.data = [[' '] * self.width for i in range(self.height)]\n",
    "\n",
    "    def v_line(self, x, y, **kargs):\n",
    "        for i in range(x,x+x):\n",
    "            self.set_pixel(i,y, **kargs)\n",
    "\n",
    "    def h_line(self, x, y,**kargs):\n",
    "        for i in range(y,y+y):\n",
    "            self.set_pixel(x,i, **kargs)\n",
    "\n",
    "    def line(self, x1, y1, x2, y2, **kargs):\n",
    "        slope = (y2-y1) / (x2-x1)\n",
    "        for y in range(y1,y2):\n",
    "            x= int(slope * y)\n",
    "            self.set_pixel(x,y, **kargs)\n",
    "\n",
    "    def display(self):\n",
    "        print(\"\\n\".join([\"\".join(row) for row in self.data]))"
   ]
  },
  {
   "cell_type": "code",
   "execution_count": 29,
   "metadata": {},
   "outputs": [],
   "source": [
    "class Shapes:\n",
    "  def __init__(self,shape, **kwargs):\n",
    "    self.shape = shape\n",
    "    self.kwargs = kwargs\n",
    "    self.__private='I am private'\n",
    "    self.name = \"\"\n",
    "  def get_private(self):\n",
    "    return self.__private\n",
    "  def set_private(self,new_private):\n",
    "    self.__private = new_private\n",
    "\n",
    "class Rectangle(Shapes):\n",
    "  def __init__(self,length,width,corner_1_x,corner_1_y,corner_2_x,corner_2_y,corner_3_x,corner_3_y,corner_4_x,corner_4_y,**kargs):\n",
    "    self.length = length\n",
    "    self.width = width\n",
    "    self.corner_1_x = corner_1_x\n",
    "    self.corner_1_y = corner_1_y\n",
    "    self.corner_2_x = corner_2_x\n",
    "    self.corner_2_y = corner_2_y\n",
    "    self.corner_3_x = corner_3_x\n",
    "    self.corner_3_y = corner_3_y\n",
    "    self.corner_4_x = corner_4_x\n",
    "    self.corner_4_y = corner_4_y\n",
    "    super().__init__('Rectangle')\n",
    "  def paint(self, canvas):\n",
    "        canvas.v_line(self.length,self.width, **self.kwargs)\n",
    "        canvas.v_line(self.length,self.width+self.length, **self.kwargs)\n",
    "        canvas.h_line(self.length,self.width, **self.kwargs)\n",
    "        canvas.h_line(self.length+self.width,self.width, **self.kwargs)\n",
    "class Circle(Shapes):\n",
    "  def __init__(self,radius,x_center,y_center,**kargs):\n",
    "    self.radius = radius\n",
    "    self.x_center = x_center\n",
    "    self.y_center = y_center\n",
    "    super().__init__('Circle')\n",
    "\n",
    "class Triangle(Shapes):\n",
    "  def __init__(self,side_1,side_2,side_3,x_1,y_1,x_2,y_2,x_3,y_3,**kargs):\n",
    "    self.side_1 = side_1\n",
    "    self.side_2 = side_2\n",
    "    self.side_3 = side_3\n",
    "    self.x_1 = x_1\n",
    "    self.y_1 = y_1\n",
    "    self.x_2 = x_2\n",
    "    self.y_2 = y_2\n",
    "    self.x_3 = x_3\n",
    "    self.y_3 = y_3\n",
    "    super().__init__('Triangle')\n",
    "\n",
    "class CompoundShape(Shapes):\n",
    "    def __init__(self, shapes):\n",
    "        self.shapes = shapes\n",
    "\n",
    "    def paint(self, canvas):\n",
    "        for s in self.shapes:\n",
    "            s.paint(canvas)\n",
    "\n",
    "class Line(Shapes):\n",
    "    def __init__(self,x1, y1, x2, y2,**kwargs):\n",
    "        Shapes.__init__(self, shape ='Line', **kwargs )\n",
    "        self.x1=x1\n",
    "        self.y1=y1\n",
    "        self.x2=x2\n",
    "        self.y2=y2\n",
    "    def paint(self, canvas):\n",
    "        canvas.line(self.x1,self.y1,self.x2,self.y2)"
   ]
  },
  {
   "cell_type": "code",
   "execution_count": 30,
   "metadata": {},
   "outputs": [
    {
     "name": "stdout",
     "output_type": "stream",
     "text": [
      "                                                  \n",
      "                                                  \n",
      "                                                  \n",
      "  *                                               \n",
      "   * *****                                        \n",
      "     *   *                                        \n",
      "    **   *                                        \n",
      "     *   *                                        \n",
      "                                                  \n",
      "     *****                                        \n",
      "       *                                          \n",
      "                                                  \n",
      "        *                                         \n",
      "         *                                        \n",
      "                                                  \n",
      "          *                                       \n",
      "                                                  \n",
      "           *                                      \n",
      "            *                                     \n",
      "                                                  \n",
      "             *                                    \n",
      "              *                                   \n",
      "                                                  \n",
      "               *                                  \n",
      "                *                                 \n",
      "                                                  \n",
      "                 *                                \n",
      "                  *                               \n",
      "                                                  \n",
      "                                                  \n",
      "                                                  \n",
      "                                                  \n",
      "                                                  \n",
      "                                                  \n",
      "                                                  \n",
      "                                                  \n",
      "                                                  \n",
      "                                                  \n",
      "                                                  \n",
      "                                                  \n"
     ]
    }
   ],
   "source": [
    "c1=Canvas(50,40)\n",
    "s1=Rectangle(4,5,1,1,6,1,1,7,6,7,char='^')\n",
    "s1.paint(c1)\n",
    "l1=Line(2,2,13,19)\n",
    "l1.paint(c1)\n",
    "c1.display()"
   ]
  },
  {
   "cell_type": "markdown",
   "metadata": {},
   "source": [
    "11. Create a `RasterDrawing` class. Demonstrate that you can create a drawing made of several shapes, paint the drawing, modify the drawing, and paint it again. "
   ]
  },
  {
   "cell_type": "code",
   "execution_count": 31,
   "metadata": {},
   "outputs": [],
   "source": [
    "class RasterDrawing:\n",
    "    def __init__(self):\n",
    "        self.shapes=dict()\n",
    "        self.shape_names=list()\n",
    "\n",
    "    def add_shape(self,shape):\n",
    "        if shape.name == \"\":\n",
    "            shape.name = self.assign_name()\n",
    "\n",
    "        self.shapes[shape.name]=shape\n",
    "        self.shape_names.append(shape.name)\n",
    "\n",
    "    def update(self, canvas):\n",
    "        canvas.clear_canvas()\n",
    "        self.paint(canvas)\n",
    "\n",
    "    def paint(self,canvas):\n",
    "        for shape_name in self.shape_names:\n",
    "            self.shapes[shape_name].paint(canvas)\n",
    "\n",
    "    def assign_name(self):\n",
    "        name_base=\"shape\"\n",
    "        name = name_base+\"_0\"\n",
    "\n",
    "        i=1\n",
    "        while name in self.shapes:\n",
    "            name = name_base+\"_\"+str(i)\n",
    "\n",
    "        return name"
   ]
  },
  {
   "cell_type": "code",
   "execution_count": 32,
   "metadata": {},
   "outputs": [
    {
     "name": "stdout",
     "output_type": "stream",
     "text": [
      "{'shape_0': <__main__.Rectangle object at 0x7f0c503b4a40>, 'shape_1': <__main__.Line object at 0x7f0c503b5f40>}\n",
      "                                                  \n",
      "                                                  \n",
      "                                                  \n",
      "  *                                               \n",
      "   * *****                                        \n",
      "     *   *                                        \n",
      "    **   *                                        \n",
      "     *   *                                        \n",
      "                                                  \n",
      "     *****                                        \n",
      "       *                                          \n",
      "                                                  \n",
      "        *                                         \n",
      "         *                                        \n",
      "                                                  \n",
      "          *                                       \n",
      "                                                  \n",
      "           *                                      \n",
      "            *                                     \n",
      "                                                  \n",
      "             *                                    \n",
      "              *                                   \n",
      "                                                  \n",
      "               *                                  \n",
      "                *                                 \n",
      "                                                  \n",
      "                 *                                \n",
      "                  *                               \n",
      "                                                  \n",
      "                                                  \n",
      "                                                  \n",
      "                                                  \n",
      "                                                  \n",
      "                                                  \n",
      "                                                  \n",
      "                                                  \n",
      "                                                  \n",
      "                                                  \n",
      "                                                  \n",
      "                                                  \n"
     ]
    }
   ],
   "source": [
    "c1=Canvas(50,40)\n",
    "rd=RasterDrawing()\n",
    "rd.add_shape(Rectangle(4,5,1,1,6,1,1,7,6,7,char='^'))\n",
    "rd.add_shape(Line(2,2,13,19))\n",
    "print(rd.shapes)\n",
    "rd.paint(c1)\n",
    "\n",
    "c1.display()"
   ]
  },
  {
   "cell_type": "markdown",
   "metadata": {},
   "source": [
    "12. Implement the ability to load/save raster drawings and demonstate that your method works. One way to implement this ability:\n",
    "\n",
    "   * Overload `__repr__` functions of all objects to return strings of the python code that would construct the object.\n",
    "   \n",
    "   * In the save method of raster drawing class, store the representations into the file.\n",
    "   * Write a loader function that reads the file and uses `eval` to instantiate the object.\n",
    "\n",
    "For example:"
   ]
  },
  {
   "cell_type": "code",
   "execution_count": 1,
   "metadata": {},
   "outputs": [],
   "source": [
    "class foo:\n",
    "    def __init__(self,a,b=None):\n",
    "        self.a=a\n",
    "        self.b=b\n",
    "        \n",
    "    def __repr__(self):\n",
    "        return \"foo(\"+repr(self.a)+\",\"+repr(self.b)+\")\"\n",
    "    \n",
    "    def save(self,filename):\n",
    "        f=open(filename,\"w\")\n",
    "        f.write(self.__repr__())\n",
    "        f.close()\n",
    "        \n",
    "   \n",
    "def foo_loader(filename):\n",
    "    f=open(filename,\"r\")\n",
    "    tmp=eval(f.read())\n",
    "    f.close()\n",
    "    return tmp\n"
   ]
  },
  {
   "cell_type": "code",
   "execution_count": 2,
   "metadata": {},
   "outputs": [
    {
     "name": "stdout",
     "output_type": "stream",
     "text": [
      "foo(1,'hello')\n"
     ]
    }
   ],
   "source": [
    "# Test\n",
    "print(repr(foo(1,\"hello\")))"
   ]
  },
  {
   "cell_type": "code",
   "execution_count": 3,
   "metadata": {},
   "outputs": [],
   "source": [
    "# Create an object and save it\n",
    "ff=foo(1,\"hello\")\n",
    "ff.save(\"Test.foo\")"
   ]
  },
  {
   "cell_type": "code",
   "execution_count": 4,
   "metadata": {},
   "outputs": [
    {
     "name": "stdout",
     "output_type": "stream",
     "text": [
      "foo(1,'hello')"
     ]
    }
   ],
   "source": [
    "# Check contents of the saved file\n",
    "!cat Test.foo"
   ]
  },
  {
   "cell_type": "code",
   "execution_count": 5,
   "metadata": {},
   "outputs": [
    {
     "data": {
      "text/plain": [
       "foo(1,'hello')"
      ]
     },
     "execution_count": 5,
     "metadata": {},
     "output_type": "execute_result"
    }
   ],
   "source": [
    "# Load the object\n",
    "ff_reloaded=foo_loader(\"Test.foo\")\n",
    "ff_reloaded"
   ]
  },
  {
   "cell_type": "code",
   "execution_count": 33,
   "metadata": {},
   "outputs": [],
   "source": [
    "class saving:\n",
    "    def __init__(self,a,b=None):\n",
    "        self.a=a\n",
    "        self.b=b\n",
    "\n",
    "    def __repr__(self):\n",
    "        return \"saving(\"+repr(self.a)+\",\"+repr(self.b)+\")\"\n",
    "\n",
    "    def save(self,filename):\n",
    "        f=open(filename,\"w\")\n",
    "        f.write(self.__repr__())\n",
    "        f.close()\n",
    "\n",
    "\n",
    "def saving_loader(filename):\n",
    "    f=open(filename,\"r\")\n",
    "    tmp=eval(f.read())\n",
    "    f.close()\n",
    "    return tmp"
   ]
  },
  {
   "cell_type": "code",
   "execution_count": 34,
   "metadata": {},
   "outputs": [
    {
     "name": "stdout",
     "output_type": "stream",
     "text": [
      "saving(1,'hello')\n"
     ]
    }
   ],
   "source": [
    "print(repr(saving(1,\"hello\")))\n"
   ]
  },
  {
   "cell_type": "code",
   "execution_count": 35,
   "metadata": {},
   "outputs": [],
   "source": [
    "ff=saving(1,\"hello\")\n",
    "ff.save(\"Test.saving\")"
   ]
  },
  {
   "cell_type": "code",
   "execution_count": 36,
   "metadata": {},
   "outputs": [
    {
     "name": "stdout",
     "output_type": "stream",
     "text": [
      "saving(1,'hello')"
     ]
    }
   ],
   "source": [
    "!cat Test.saving"
   ]
  },
  {
   "cell_type": "code",
   "execution_count": 37,
   "metadata": {},
   "outputs": [
    {
     "data": {
      "text/plain": [
       "saving(1,'hello')"
      ]
     },
     "execution_count": 37,
     "metadata": {},
     "output_type": "execute_result"
    }
   ],
   "source": [
    "ff_reloaded=saving_loader(\"Test.saving\")\n",
    "ff_reloaded"
   ]
  },
  {
   "cell_type": "code",
   "execution_count": 38,
   "metadata": {},
   "outputs": [
    {
     "name": "stdout",
     "output_type": "stream",
     "text": [
      "{'shape_0': <__main__.Rectangle object at 0x7f0c503b4d40>, 'shape_1': <__main__.Line object at 0x7f0c503b68d0>}\n",
      "                                                  \n",
      "                                                  \n",
      "                                                  \n",
      "  *                                               \n",
      "   * *****                                        \n",
      "     *   *                                        \n",
      "    **   *                                        \n",
      "     *   *                                        \n",
      "                                                  \n",
      "     *****                                        \n",
      "       *                                          \n",
      "                                                  \n",
      "        *                                         \n",
      "         *                                        \n",
      "                                                  \n",
      "          *                                       \n",
      "                                                  \n",
      "           *                                      \n",
      "            *                                     \n",
      "                                                  \n",
      "             *                                    \n",
      "              *                                   \n",
      "                                                  \n",
      "               *                                  \n",
      "                *                                 \n",
      "                                                  \n",
      "                 *                                \n",
      "                  *                               \n",
      "                                                  \n",
      "                                                  \n",
      "                                                  \n",
      "                                                  \n",
      "                                                  \n",
      "                                                  \n",
      "                                                  \n",
      "                                                  \n",
      "                                                  \n",
      "                                                  \n",
      "                                                  \n",
      "                                                  \n"
     ]
    }
   ],
   "source": [
    "c1=Canvas(50,40)\n",
    "rd=RasterDrawing()\n",
    "rd.add_shape(Rectangle(4,5,1,1,6,1,1,7,6,7,char='^'))\n",
    "rd.add_shape(Line(2,2,13,19))\n",
    "print(rd.shapes)\n",
    "rd.paint(c1)\n",
    "\n",
    "c1.display()"
   ]
  },
  {
   "cell_type": "code",
   "execution_count": null,
   "metadata": {},
   "outputs": [],
   "source": [
    " gg=saving(rd.add_shape(Rectangle(4,5,1,1,6,1,1,7,6,7,char='^')))"
   ]
  },
  {
   "cell_type": "code",
   "execution_count": null,
   "metadata": {},
   "outputs": [],
   "source": [
    "gg.save('Drawing.saving')"
   ]
  },
  {
   "cell_type": "code",
   "execution_count": null,
   "metadata": {},
   "outputs": [],
   "source": [
    "!cat Drawing.saving"
   ]
  },
  {
   "cell_type": "code",
   "execution_count": null,
   "metadata": {},
   "outputs": [],
   "source": []
  }
 ],
 "metadata": {
  "kernelspec": {
   "display_name": "Python 3 (ipykernel)",
   "language": "python",
   "name": "python3"
  },
  "language_info": {
   "codemirror_mode": {
    "name": "ipython",
    "version": 3
   },
   "file_extension": ".py",
   "mimetype": "text/x-python",
   "name": "python",
   "nbconvert_exporter": "python",
   "pygments_lexer": "ipython3",
   "version": "3.12.3"
  }
 },
 "nbformat": 4,
 "nbformat_minor": 2
}
