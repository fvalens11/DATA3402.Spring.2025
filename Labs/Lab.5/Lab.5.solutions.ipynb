{
 "cells": [
  {
   "cell_type": "markdown",
   "metadata": {},
   "source": [
    "# Lab 5\n"
   ]
  },
  {
   "cell_type": "markdown",
   "metadata": {},
   "source": [
    "Matrix Representation: In this lab you will be creating a simple linear algebra system. In memory, we will represent matrices as nested python lists as we have done in lecture. In the exercises below, you are required to explicitly test every feature you implement, demonstrating it works.\n",
    "\n",
    "1. Create a `matrix` class with the following properties:\n",
    "    * It can be initialized in 2 ways:\n",
    "        1. with arguments `n` and `m`, the size of the matrix. A newly instanciated matrix will contain all zeros.\n",
    "        2. with a list of lists of values. Note that since we are using lists of lists to implement matrices, it is possible that not all rows have the same number of columns. Test explicitly that the matrix is properly specified.\n",
    "    * Matrix instances `M` can be indexed with `M[i][j]` and `M[i,j]`.\n",
    "    * Matrix assignment works in 2 ways:\n",
    "        1. If `M_1` and `M_2` are `matrix` instances `M_1=M_2` sets the values of `M_1` to those of `M_2`, if they are the same size. Error otherwise.\n",
    "        2. In example above `M_2` can be a list of lists of correct size.\n"
   ]
  },
  {
   "cell_type": "markdown",
   "metadata": {},
   "source": [
    "2. Add the following methods:\n",
    "    * `shape()`: returns a tuple `(n,m)` of the shape of the matrix.\n",
    "    * `transpose()`: returns a new matrix instance which is the transpose of the matrix.\n",
    "    * `row(n)` and `column(n)`: that return the nth row or column of the matrix M as a new appropriately shaped matrix object.\n",
    "    * `to_list()`: which returns the matrix as a list of lists.\n",
    "    *  `block(n_0,n_1,m_0,m_1)` that returns a smaller matrix located at the n_0 to n_1 columns and m_0 to m_1 rows. \n",
    "    * (Extra credit) Modify `__getitem__` implemented above to support slicing.\n",
    "        "
   ]
  },
  {
   "cell_type": "markdown",
   "metadata": {},
   "source": [
    "3. Write functions that create special matrices (note these are standalone functions, not member functions of your `matrix` class):\n",
    "    * `constant(n,m,c)`: returns a `n` by `m` matrix filled with floats of value `c`.\n",
    "    * `zeros(n,m)` and `ones(n,m)`: return `n` by `m` matrices filled with floats of value `0` and `1`, respectively.\n",
    "    * `eye(n)`: returns the n by n identity matrix."
   ]
  },
  {
   "cell_type": "markdown",
   "metadata": {},
   "source": [
    "4. Add the following member functions to your class. Make sure to appropriately test the dimensions of the matrices to make sure the operations are correct.\n",
    "    * `M.scalarmul(c)`: a matrix that is scalar product $cM$, where every element of $M$ is multiplied by $c$.\n",
    "    * `M.add(N)`: adds two matrices $M$ and $N$. Don’t forget to test that the sizes of the matrices are compatible for this and all other operations.\n",
    "    * `M.sub(N)`: subtracts two matrices $M$ and $N$.\n",
    "    * `M.mat_mult(N)`: returns a matrix that is the matrix product of two matrices $M$ and $N$.\n",
    "    * `M.element_mult(N)`: returns a matrix that is the element-wise product of two matrices $M$ and $N$.\n",
    "    * `M.equals(N)`: returns true/false if $M==N$."
   ]
  },
  {
   "cell_type": "markdown",
   "metadata": {},
   "source": [
    "5. Overload python operators to appropriately use your functions in 4 and allow expressions like:\n",
    "    * 2*M\n",
    "    * M*2\n",
    "    * M+N\n",
    "    * M-N\n",
    "    * M*N\n",
    "    * M==N\n",
    "    * M=N\n"
   ]
  },
  {
   "cell_type": "markdown",
   "metadata": {},
   "source": [
    "6. Demonstrate the basic properties of matrices with your matrix class by creating two 2 by 2 example matrices using your Matrix class and illustrating the following:\n",
    "\n",
    "$$\n",
    "(AB)C=A(BC)\n",
    "$$\n",
    "$$\n",
    "A(B+C)=AB+AC\n",
    "$$\n",
    "$$\n",
    "AB\\neq BA\n",
    "$$\n",
    "$$\n",
    "AI=A\n",
    "$$"
   ]
  },
  {
   "cell_type": "code",
   "execution_count": 1,
   "metadata": {},
   "outputs": [],
   "source": [
    "class Matrix:\n",
    "  def __init__(self,n,m,n_11,n_12,n_21,n_22):\n",
    "    self.n = n\n",
    "    self.m = m\n",
    "    self.n_11 = n_11\n",
    "    self.n_12 = n_12\n",
    "    self.n_21 = n_21\n",
    "    self.n_22 = n_22\n",
    "    self.matrix = [[n_11,n_12],[n_21,n_22]]\n",
    "  def get_matrix(self):\n",
    "    return self.matrix\n",
    "  def zero_matrix(self):\n",
    "    return [ [0 for _ in range(self.n)] for _ in range(self.m)]\n",
    "  def get_shape(self):\n",
    "    return (self.n, self.m)\n",
    "  def transpose(self):\n",
    "    return [[self.matrix[j][i] for j in range(self.n)] for i in range(self.m)]\n",
    "  def return_row(self,n):\n",
    "    if n==1:\n",
    "      return [[self.n_11],[self.n_12]]\n",
    "    elif n==2:\n",
    "      return [[self.n_21],[self.n_22]]\n",
    "    else:\n",
    "      print(\"error\")\n",
    "  def return_col(self,m):\n",
    "    if m==1:\n",
    "      return [[self.n_11],[self.n_21]]\n",
    "    elif m==2:\n",
    "      return [[self.n_12],[self.n_22]]\n",
    "    else:\n",
    "      print(\"error\")\n",
    "  def to_list(self):\n",
    "    return [self.n_11,self.n_12,self.n_21,self.n_22]"
   ]
  },
  {
   "cell_type": "code",
   "execution_count": 2,
   "metadata": {},
   "outputs": [],
   "source": [
    "my_matrix=Matrix(2,2,1,2,3,4)\n"
   ]
  },
  {
   "cell_type": "code",
   "execution_count": 3,
   "metadata": {},
   "outputs": [
    {
     "data": {
      "text/plain": [
       "[[1, 2], [3, 4]]"
      ]
     },
     "execution_count": 3,
     "metadata": {},
     "output_type": "execute_result"
    }
   ],
   "source": [
    "my_matrix.get_matrix()"
   ]
  },
  {
   "cell_type": "code",
   "execution_count": 4,
   "metadata": {},
   "outputs": [
    {
     "data": {
      "text/plain": [
       "(2, 2)"
      ]
     },
     "execution_count": 4,
     "metadata": {},
     "output_type": "execute_result"
    }
   ],
   "source": [
    "my_matrix.get_shape()"
   ]
  },
  {
   "cell_type": "code",
   "execution_count": 5,
   "metadata": {},
   "outputs": [
    {
     "data": {
      "text/plain": [
       "[[0, 0], [0, 0]]"
      ]
     },
     "execution_count": 5,
     "metadata": {},
     "output_type": "execute_result"
    }
   ],
   "source": [
    "my_matrix.zero_matrix()"
   ]
  },
  {
   "cell_type": "code",
   "execution_count": 6,
   "metadata": {},
   "outputs": [
    {
     "data": {
      "text/plain": [
       "[[1, 3], [2, 4]]"
      ]
     },
     "execution_count": 6,
     "metadata": {},
     "output_type": "execute_result"
    }
   ],
   "source": [
    "my_matrix.transpose()"
   ]
  },
  {
   "cell_type": "code",
   "execution_count": 7,
   "metadata": {},
   "outputs": [
    {
     "data": {
      "text/plain": [
       "[[2], [4]]"
      ]
     },
     "execution_count": 7,
     "metadata": {},
     "output_type": "execute_result"
    }
   ],
   "source": [
    "my_matrix.return_col(2)"
   ]
  },
  {
   "cell_type": "code",
   "execution_count": 8,
   "metadata": {},
   "outputs": [
    {
     "data": {
      "text/plain": [
       "[1, 2, 3, 4]"
      ]
     },
     "execution_count": 8,
     "metadata": {},
     "output_type": "execute_result"
    }
   ],
   "source": [
    "my_matrix.to_list()"
   ]
  },
  {
   "cell_type": "code",
   "execution_count": 9,
   "metadata": {},
   "outputs": [],
   "source": [
    "def constant_mat(n,m,c):\n",
    "  return [[c for _ in range(n)] for _ in range(m)]"
   ]
  },
  {
   "cell_type": "code",
   "execution_count": 10,
   "metadata": {},
   "outputs": [
    {
     "data": {
      "text/plain": [
       "[[5, 5], [5, 5]]"
      ]
     },
     "execution_count": 10,
     "metadata": {},
     "output_type": "execute_result"
    }
   ],
   "source": [
    "constant_mat(2,2,5)"
   ]
  },
  {
   "cell_type": "code",
   "execution_count": 11,
   "metadata": {},
   "outputs": [],
   "source": [
    "def zeros_mat(n,m):\n",
    "  return [[0 for _ in range(n)] for _ in range(m)]\n",
    "def ones_mat(n,m):\n",
    "  return [[1 for _ in range(n)] for _ in range(m)]"
   ]
  },
  {
   "cell_type": "code",
   "execution_count": 12,
   "metadata": {},
   "outputs": [
    {
     "data": {
      "text/plain": [
       "[[0, 0], [0, 0]]"
      ]
     },
     "execution_count": 12,
     "metadata": {},
     "output_type": "execute_result"
    }
   ],
   "source": [
    "zeros_mat(2,2)"
   ]
  },
  {
   "cell_type": "code",
   "execution_count": 13,
   "metadata": {},
   "outputs": [
    {
     "data": {
      "text/plain": [
       "[[1, 1], [1, 1]]"
      ]
     },
     "execution_count": 13,
     "metadata": {},
     "output_type": "execute_result"
    }
   ],
   "source": [
    "ones_mat(2,2)"
   ]
  },
  {
   "cell_type": "code",
   "execution_count": 14,
   "metadata": {},
   "outputs": [],
   "source": [
    "def identity_mat(n):\n",
    "  return [[1 if i==j else 0 for j in range(n)] for i in range(n)]"
   ]
  },
  {
   "cell_type": "code",
   "execution_count": 15,
   "metadata": {},
   "outputs": [
    {
     "data": {
      "text/plain": [
       "[[1, 0, 0, 0], [0, 1, 0, 0], [0, 0, 1, 0], [0, 0, 0, 1]]"
      ]
     },
     "execution_count": 15,
     "metadata": {},
     "output_type": "execute_result"
    }
   ],
   "source": [
    "identity_mat(4)"
   ]
  },
  {
   "cell_type": "code",
   "execution_count": 16,
   "metadata": {},
   "outputs": [],
   "source": [
    "class Matrix:\n",
    "  def __init__(self,n,m,n_11,n_12,n_21,n_22):\n",
    "    self.n = n\n",
    "    self.m = m\n",
    "    self.n_11 = n_11\n",
    "    self.n_12 = n_12\n",
    "    self.n_21 = n_21\n",
    "    self.n_22 = n_22\n",
    "    self.matrix = [[n_11,n_12],[n_21,n_22]]\n",
    "  def get_matrix(self):\n",
    "    return self.matrix\n",
    "  def zero_matrix(self):\n",
    "    return [ [0 for _ in range(self.n)] for _ in range(self.m)]\n",
    "  def get_shape(self):\n",
    "    return (self.n, self.m)\n",
    "  def transpose(self):\n",
    "    return [[self.matrix[j][i] for j in range(self.n)] for i in range(self.m)]\n",
    "  def return_row(self,n):\n",
    "    if n==1:\n",
    "      return [[self.n_11],[self.n_12]]\n",
    "    elif n==2:\n",
    "      return [[self.n_21],[self.n_22]]\n",
    "    else:\n",
    "      print(\"error\")\n",
    "  def return_col(self,m):\n",
    "    if m==1:\n",
    "      return [[self.n_11],[self.n_21]]\n",
    "    elif m==2:\n",
    "      return [[self.n_12],[self.n_22]]\n",
    "    else:\n",
    "      print(\"error\")\n",
    "  def to_list(self):\n",
    "    return [self.n_11,self.n_12,self.n_21,self.n_22]\n",
    "  def Matrix_scalarmult(self,c):\n",
    "    return [[c*self.n_11,c*self.n_12],[c*self.n_21,c*self.n_22]]\n",
    "\n",
    "# added scalar multiplication #\n",
    "\n"
   ]
  },
  {
   "cell_type": "code",
   "execution_count": 17,
   "metadata": {},
   "outputs": [
    {
     "data": {
      "text/plain": [
       "[[2, 4], [6, 8]]"
      ]
     },
     "execution_count": 17,
     "metadata": {},
     "output_type": "execute_result"
    }
   ],
   "source": [
    "O=Matrix(2,2,1,2,3,4)\n",
    "O.Matrix_scalarmult(2)"
   ]
  },
  {
   "cell_type": "code",
   "execution_count": 18,
   "metadata": {},
   "outputs": [],
   "source": [
    "class Matrix_other(Matrix):\n",
    "  def __init__(self,n,m,n_11,n_12,n_21,n_22):\n",
    "    self.n = n\n",
    "    self.m = m\n",
    "    self.n_11 = n_11\n",
    "    self.n_12 = n_12\n",
    "    self.n_21 = n_21\n",
    "    self.n_22 = n_22\n",
    "    self.matrix = [[n_11,n_12],[n_21,n_22]]\n",
    "    super().__init__(n, m, n_11, n_12, n_21, n_22)\n",
    "  def Matrix_sub(self,M):\n",
    "    if self.get_shape()!=M.get_shape():\n",
    "      print(\"error\")\n",
    "    else:\n",
    "      return [[self.n_11-M.n_11,self.n_12-M.n_12],[self.n_21-M.n_21,self.n_22-M.n_22]]\n",
    "  def Matrix_add(self,M):\n",
    "    if self.get_shape()!=M.get_shape():\n",
    "      print(\"error\")\n",
    "    else:\n",
    "      return [[self.n_11+M.n_11,self.n_12+M.n_12],[self.n_21+M.n_21,self.n_22+M.n_22]]\n",
    "  def Matrix_mult(self,M):\n",
    "    if self.get_shape()!=M.get_shape():\n",
    "      print(\"error\")\n",
    "    else:\n",
    "      return [[self.n_11*M.n_11+self.n_12*M.n_21,self.n_11*M.n_12+self.n_12*M.n_22],[self.n_21*M.n_11+self.n_22*M.n_21,self.n_21*M.n_12+self.n_22*M.n_22]]\n",
    "  def Matrix_elementwise_mult(self,M):\n",
    "    if self.get_shape()!=M.get_shape():\n",
    "      print(\"error\")\n",
    "    else:\n",
    "      return [[self.n_11*M.n_11,self.n_12*M.n_12],[self.n_21*M.n_21,self.n_22*M.n_22]]\n",
    "  def Matrix_equal_check(self,M):\n",
    "    if self.get_shape()!=M.get_shape():\n",
    "      print(\"error\")\n",
    "    else:\n",
    "      if self.n_11==M.n_11 and self.n_12==M.n_12 and self.n_21==M.n_21 and self.n_22==M.n_22:\n",
    "        return True\n",
    "      else:\n",
    "        return False\n",
    "  def __add__(self,M):\n",
    "    if self.get_shape()!=M.get_shape():\n",
    "      print(\"error\")\n",
    "    else:\n",
    "      if isinstance(M, (Matrix, Matrix_other)):\n",
    "        return [[self.n_11+M.n_11,self.n_12+M.n_12],[self.n_21+M.n_21,self.n_22+M.n_22]]\n",
    "      else:\n",
    "        print(\"error\")\n",
    "  def __sub__(self,M):\n",
    "    if self.get_shape()!=M.get_shape():\n",
    "      print(\"error\")\n",
    "    else:\n",
    "      return [[self.n_11-M.n_11,self.n_12-M.n_12],[self.n_21-M.n_21,self.n_22-M.n_22]]\n",
    "  def __mul__(self,M):\n",
    "    if isinstance(M, (Matrix, Matrix_other)):\n",
    "      if self.get_shape()!=M.get_shape():\n",
    "        print(\"error\")\n",
    "      else:\n",
    "        return [[self.n_11*M.n_11+self.n_12*M.n_21,self.n_11*M.n_12+self.n_12*M.n_22],[self.n_21*M.n_11+self.n_22*M.n_21,self.n_21*M.n_12+self.n_22*M.n_22]]\n",
    "    elif isinstance(M, (int, float)):\n",
    "      return [[M*self.n_11,M*self.n_12],[M*self.n_21,M*self.n_22]]\n",
    "    else:\n",
    "      print(\"error\")\n",
    "  def __rmul__(self,c):\n",
    "    return [[c*self.n_11,c*self.n_12],[c*self.n_21,c*self.n_22]] or [[self.n_11*c,self.n_12*c],[self.n_21*c,self.n_22*c]]\n",
    "\n",
    "\n"
   ]
  },
  {
   "cell_type": "code",
   "execution_count": 19,
   "metadata": {},
   "outputs": [],
   "source": [
    "N=Matrix_other(2,2,2,3,4,5)\n",
    "M=Matrix(2,2,1,2,3,4)"
   ]
  },
  {
   "cell_type": "code",
   "execution_count": 20,
   "metadata": {},
   "outputs": [
    {
     "name": "stdout",
     "output_type": "stream",
     "text": [
      "[[3, 5], [7, 9]]\n"
     ]
    }
   ],
   "source": [
    "result=N.Matrix_add(M)\n",
    "print(result)"
   ]
  },
  {
   "cell_type": "code",
   "execution_count": 21,
   "metadata": {},
   "outputs": [
    {
     "name": "stdout",
     "output_type": "stream",
     "text": [
      "[[1, 1], [1, 1]]\n"
     ]
    }
   ],
   "source": [
    "result=N.Matrix_sub(M)\n",
    "print(result)"
   ]
  },
  {
   "cell_type": "code",
   "execution_count": 22,
   "metadata": {},
   "outputs": [
    {
     "name": "stdout",
     "output_type": "stream",
     "text": [
      "[[11, 16], [19, 28]]\n"
     ]
    }
   ],
   "source": [
    "result=N.Matrix_mult(M)\n",
    "print(result)"
   ]
  },
  {
   "cell_type": "code",
   "execution_count": 23,
   "metadata": {},
   "outputs": [],
   "source": [
    "N=Matrix_other(2,2,1,2,3,4)"
   ]
  },
  {
   "cell_type": "code",
   "execution_count": 24,
   "metadata": {},
   "outputs": [
    {
     "name": "stdout",
     "output_type": "stream",
     "text": [
      "True\n"
     ]
    }
   ],
   "source": [
    "check=N.Matrix_equal_check(M)\n",
    "print(check)"
   ]
  },
  {
   "cell_type": "code",
   "execution_count": 25,
   "metadata": {},
   "outputs": [],
   "source": [
    "N=Matrix_other(2,2,1,2,3,4)\n",
    "M=Matrix(2,2,1,2,3,4)"
   ]
  },
  {
   "cell_type": "code",
   "execution_count": 26,
   "metadata": {},
   "outputs": [
    {
     "data": {
      "text/plain": [
       "[[2, 4], [6, 8]]"
      ]
     },
     "execution_count": 26,
     "metadata": {},
     "output_type": "execute_result"
    }
   ],
   "source": [
    "N + M"
   ]
  },
  {
   "cell_type": "code",
   "execution_count": 27,
   "metadata": {},
   "outputs": [
    {
     "data": {
      "text/plain": [
       "[[0, 0], [0, 0]]"
      ]
     },
     "execution_count": 27,
     "metadata": {},
     "output_type": "execute_result"
    }
   ],
   "source": [
    "N - M"
   ]
  },
  {
   "cell_type": "code",
   "execution_count": 28,
   "metadata": {},
   "outputs": [
    {
     "data": {
      "text/plain": [
       "[[7, 10], [15, 22]]"
      ]
     },
     "execution_count": 28,
     "metadata": {},
     "output_type": "execute_result"
    }
   ],
   "source": [
    "N*M"
   ]
  },
  {
   "cell_type": "code",
   "execution_count": 29,
   "metadata": {},
   "outputs": [
    {
     "data": {
      "text/plain": [
       "[[2, 4], [6, 8]]"
      ]
     },
     "execution_count": 29,
     "metadata": {},
     "output_type": "execute_result"
    }
   ],
   "source": [
    "2 * N"
   ]
  },
  {
   "cell_type": "code",
   "execution_count": 30,
   "metadata": {},
   "outputs": [
    {
     "data": {
      "text/plain": [
       "False"
      ]
     },
     "execution_count": 30,
     "metadata": {},
     "output_type": "execute_result"
    }
   ],
   "source": [
    "N==M"
   ]
  },
  {
   "cell_type": "code",
   "execution_count": 32,
   "metadata": {},
   "outputs": [],
   "source": [
    "# checking (AB)C = A(BC)#\n",
    "\n",
    "A=Matrix_other(2,2,2,2,1,1)\n",
    "B=Matrix_other(2,2,3,1,2,1)\n",
    "C=Matrix_other(2,2,1,1,4,2)"
   ]
  },
  {
   "cell_type": "code",
   "execution_count": 33,
   "metadata": {},
   "outputs": [
    {
     "data": {
      "text/plain": [
       "[[10, 4], [5, 2]]"
      ]
     },
     "execution_count": 33,
     "metadata": {},
     "output_type": "execute_result"
    }
   ],
   "source": [
    "A * B"
   ]
  },
  {
   "cell_type": "code",
   "execution_count": 35,
   "metadata": {},
   "outputs": [
    {
     "data": {
      "text/plain": [
       "[[26, 18], [13, 9]]"
      ]
     },
     "execution_count": 35,
     "metadata": {},
     "output_type": "execute_result"
    }
   ],
   "source": [
    "# D = A*B #\n",
    "D=Matrix_other(2,2,10,4,5,2)\n",
    "D * C"
   ]
  },
  {
   "cell_type": "code",
   "execution_count": 36,
   "metadata": {},
   "outputs": [
    {
     "data": {
      "text/plain": [
       "[[7, 5], [6, 4]]"
      ]
     },
     "execution_count": 36,
     "metadata": {},
     "output_type": "execute_result"
    }
   ],
   "source": [
    "B * C"
   ]
  },
  {
   "cell_type": "code",
   "execution_count": 37,
   "metadata": {},
   "outputs": [
    {
     "data": {
      "text/plain": [
       "[[26, 18], [13, 9]]"
      ]
     },
     "execution_count": 37,
     "metadata": {},
     "output_type": "execute_result"
    }
   ],
   "source": [
    "# E = B*C #\n",
    "E=Matrix_other(2,2,7,5,6,4)\n",
    "A * E"
   ]
  },
  {
   "cell_type": "code",
   "execution_count": 38,
   "metadata": {},
   "outputs": [
    {
     "data": {
      "text/plain": [
       "[[4, 2], [6, 3]]"
      ]
     },
     "execution_count": 38,
     "metadata": {},
     "output_type": "execute_result"
    }
   ],
   "source": [
    "# Checking A(B+C) = AB + AC\n",
    "B + C"
   ]
  },
  {
   "cell_type": "code",
   "execution_count": 39,
   "metadata": {},
   "outputs": [
    {
     "data": {
      "text/plain": [
       "[[20, 10], [10, 5]]"
      ]
     },
     "execution_count": 39,
     "metadata": {},
     "output_type": "execute_result"
    }
   ],
   "source": [
    "#F = B+C #\n",
    "F=Matrix_other(2,2,4,2,6,3)\n",
    "A*F"
   ]
  },
  {
   "cell_type": "code",
   "execution_count": 40,
   "metadata": {},
   "outputs": [
    {
     "data": {
      "text/plain": [
       "[[10, 4], [5, 2]]"
      ]
     },
     "execution_count": 40,
     "metadata": {},
     "output_type": "execute_result"
    }
   ],
   "source": [
    "A*B"
   ]
  },
  {
   "cell_type": "code",
   "execution_count": 41,
   "metadata": {},
   "outputs": [
    {
     "data": {
      "text/plain": [
       "[[10, 6], [5, 3]]"
      ]
     },
     "execution_count": 41,
     "metadata": {},
     "output_type": "execute_result"
    }
   ],
   "source": [
    "A*C"
   ]
  },
  {
   "cell_type": "code",
   "execution_count": 42,
   "metadata": {},
   "outputs": [
    {
     "data": {
      "text/plain": [
       "[[20, 10], [10, 5]]"
      ]
     },
     "execution_count": 42,
     "metadata": {},
     "output_type": "execute_result"
    }
   ],
   "source": [
    "#J = A*B and K = A*C#\n",
    "J=Matrix_other(2,2,10,4,5,2)\n",
    "K=Matrix_other(2,2,10,6,5,3)\n",
    "\n",
    "J + K"
   ]
  },
  {
   "cell_type": "code",
   "execution_count": 43,
   "metadata": {},
   "outputs": [
    {
     "data": {
      "text/plain": [
       "[[10, 4], [5, 2]]"
      ]
     },
     "execution_count": 43,
     "metadata": {},
     "output_type": "execute_result"
    }
   ],
   "source": [
    "A * B"
   ]
  },
  {
   "cell_type": "code",
   "execution_count": 44,
   "metadata": {},
   "outputs": [
    {
     "data": {
      "text/plain": [
       "[[7, 7], [5, 5]]"
      ]
     },
     "execution_count": 44,
     "metadata": {},
     "output_type": "execute_result"
    }
   ],
   "source": [
    "B * A"
   ]
  },
  {
   "cell_type": "code",
   "execution_count": 46,
   "metadata": {},
   "outputs": [
    {
     "data": {
      "text/plain": [
       "[[2, 2], [1, 1]]"
      ]
     },
     "execution_count": 46,
     "metadata": {},
     "output_type": "execute_result"
    }
   ],
   "source": [
    "I = Matrix_other(2,2,1,0,0,1)\n",
    "A * I\n"
   ]
  },
  {
   "cell_type": "code",
   "execution_count": 47,
   "metadata": {},
   "outputs": [
    {
     "data": {
      "text/plain": [
       "[[2, 2], [1, 1]]"
      ]
     },
     "execution_count": 47,
     "metadata": {},
     "output_type": "execute_result"
    }
   ],
   "source": [
    "1 * A"
   ]
  },
  {
   "cell_type": "code",
   "execution_count": null,
   "metadata": {},
   "outputs": [],
   "source": []
  }
 ],
 "metadata": {
  "kernelspec": {
   "display_name": "Python 3 (ipykernel)",
   "language": "python",
   "name": "python3"
  },
  "language_info": {
   "codemirror_mode": {
    "name": "ipython",
    "version": 3
   },
   "file_extension": ".py",
   "mimetype": "text/x-python",
   "name": "python",
   "nbconvert_exporter": "python",
   "pygments_lexer": "ipython3",
   "version": "3.12.3"
  }
 },
 "nbformat": 4,
 "nbformat_minor": 2
}
