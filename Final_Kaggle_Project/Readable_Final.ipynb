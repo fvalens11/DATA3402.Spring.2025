{
 "cells": [
  {
   "cell_type": "code",
   "execution_count": 1,
   "id": "c30045a7",
   "metadata": {},
   "outputs": [],
   "source": [
    "import pandas as pd\n",
    "import numpy as np\n",
    "import matplotlib as plt\n",
    "\n",
    "\n",
    "Train = pd.read_csv('train.csv')\n",
    "Test = pd.read_csv('test.csv')"
   ]
  },
  {
   "cell_type": "code",
   "execution_count": 2,
   "id": "1f948197",
   "metadata": {},
   "outputs": [],
   "source": [
    "Train = Train.dropna()"
   ]
  },
  {
   "cell_type": "code",
   "execution_count": 3,
   "id": "fe3681a9",
   "metadata": {},
   "outputs": [],
   "source": [
    "Test = Test.dropna()"
   ]
  },
  {
   "cell_type": "code",
   "execution_count": 10,
   "id": "b03eef8d",
   "metadata": {},
   "outputs": [
    {
     "name": "stdout",
     "output_type": "stream",
     "text": [
      "Columns in train: ['id', 'surgery', 'age', 'rectal_temp', 'pulse', 'respiratory_rate', 'temp_of_extremities', 'peripheral_pulse', 'mucous_membrane', 'capillary_refill_time', 'pain', 'peristalsis', 'abdominal_distention', 'nasogastric_tube', 'nasogastric_reflux', 'nasogastric_reflux_ph', 'rectal_exam_feces', 'abdomen', 'packed_cell_volume', 'total_protein', 'abdomo_appearance', 'abdomo_protein', 'surgical_lesion', 'lesion_1', 'lesion_2', 'lesion_3', 'cp_data', 'outcome']\n"
     ]
    },
    {
     "ename": "AttributeError",
     "evalue": "module 'matplotlib' has no attribute 'figure'",
     "output_type": "error",
     "traceback": [
      "\u001b[0;31m---------------------------------------------------------------------------\u001b[0m",
      "\u001b[0;31mAttributeError\u001b[0m                            Traceback (most recent call last)",
      "Cell \u001b[0;32mIn[10], line 16\u001b[0m\n\u001b[1;32m     13\u001b[0m cols \u001b[38;5;241m=\u001b[39m \u001b[38;5;241m2\u001b[39m\n\u001b[1;32m     14\u001b[0m rows \u001b[38;5;241m=\u001b[39m (num_features \u001b[38;5;241m+\u001b[39m cols \u001b[38;5;241m-\u001b[39m \u001b[38;5;241m1\u001b[39m) \u001b[38;5;241m/\u001b[39m\u001b[38;5;241m/\u001b[39m cols\n\u001b[0;32m---> 16\u001b[0m \u001b[43mplt\u001b[49m\u001b[38;5;241;43m.\u001b[39;49m\u001b[43mfigure\u001b[49m(figsize\u001b[38;5;241m=\u001b[39m(\u001b[38;5;241m14\u001b[39m, \u001b[38;5;241m4\u001b[39m \u001b[38;5;241m*\u001b[39m rows))\n\u001b[1;32m     18\u001b[0m \u001b[38;5;28;01mfor\u001b[39;00m i, col \u001b[38;5;129;01min\u001b[39;00m \u001b[38;5;28menumerate\u001b[39m(int_columns, \u001b[38;5;241m1\u001b[39m):\n\u001b[1;32m     19\u001b[0m     plt\u001b[38;5;241m.\u001b[39msubplot(rows, cols, i)\n",
      "File \u001b[0;32m/usr/lib/python3/dist-packages/matplotlib/_api/__init__.py:224\u001b[0m, in \u001b[0;36mcaching_module_getattr.<locals>.__getattr__\u001b[0;34m(name)\u001b[0m\n\u001b[1;32m    222\u001b[0m \u001b[38;5;28;01mif\u001b[39;00m name \u001b[38;5;129;01min\u001b[39;00m props:\n\u001b[1;32m    223\u001b[0m     \u001b[38;5;28;01mreturn\u001b[39;00m props[name]\u001b[38;5;241m.\u001b[39m\u001b[38;5;21m__get__\u001b[39m(instance)\n\u001b[0;32m--> 224\u001b[0m \u001b[38;5;28;01mraise\u001b[39;00m \u001b[38;5;167;01mAttributeError\u001b[39;00m(\n\u001b[1;32m    225\u001b[0m     \u001b[38;5;124mf\u001b[39m\u001b[38;5;124m\"\u001b[39m\u001b[38;5;124mmodule \u001b[39m\u001b[38;5;132;01m{\u001b[39;00m\u001b[38;5;28mcls\u001b[39m\u001b[38;5;241m.\u001b[39m\u001b[38;5;18m__module__\u001b[39m\u001b[38;5;132;01m!r}\u001b[39;00m\u001b[38;5;124m has no attribute \u001b[39m\u001b[38;5;132;01m{\u001b[39;00mname\u001b[38;5;132;01m!r}\u001b[39;00m\u001b[38;5;124m\"\u001b[39m)\n",
      "\u001b[0;31mAttributeError\u001b[0m: module 'matplotlib' has no attribute 'figure'"
     ]
    }
   ],
   "source": [
    "import matplotlib as plt\n",
    "\n",
    "print(\"Columns in train:\", Train.columns.tolist())\n",
    "\n",
    "if 'outcome' in Train.columns:\n",
    "    train_features = Train.drop(columns=['outcome'])\n",
    "else:\n",
    "    train_features = Train.copy()\n",
    "\n",
    "int_columns = train_features.select_dtypes(include=['int', 'int32', 'int64']).columns\n",
    "\n",
    "num_features = len(int_columns)\n",
    "cols = 2\n",
    "rows = (num_features + cols - 1) // cols\n",
    "\n",
    "plt.figure(figsize=(14, 4 * rows))\n",
    "\n",
    "for i, col in enumerate(int_columns, 1):\n",
    "    plt.subplot(rows, cols, i)\n",
    "\n",
    "    if col in Test.columns:\n",
    "        train_vals = Train[col].dropna()\n",
    "        test_vals = Test[col].dropna()\n",
    "\n",
    "        plt.hist(train_vals, bins=30, alpha=0.5, color='blue', label='Train', density=True)\n",
    "        plt.hist(test_vals, bins=30, alpha=0.5, color='red', label='Test', density=True)\n",
    "        plt.title(f'Distribution of {col}')\n",
    "        plt.xlabel(col)\n",
    "        plt.ylabel('Density')\n",
    "        plt.legend()\n",
    "\n",
    "plt.tight_layout()\n",
    "plt.show()\n",
    "\n"
   ]
  },
  {
   "cell_type": "code",
   "execution_count": null,
   "id": "263b6eee",
   "metadata": {},
   "outputs": [],
   "source": [
    "#Now One-Hot Encoding#"
   ]
  },
  {
   "cell_type": "code",
   "execution_count": 5,
   "id": "c488bb65",
   "metadata": {},
   "outputs": [],
   "source": [
    "Train['surgery'].replace(['yes','no'],[1,0],inplace=True)\n",
    "Train['temp_of_extremities'].replace(['cold','cool','normal','warm'],[0,1,2,3],inplace=True)\n",
    "Train['peripheral_pulse'].replace(['absent','reduced','normal','increased'],[0,1,2,3],inplace=True)\n",
    "Train['capillary_refill_time'].replace(['less_3_sec','3','more_3_sec'],[0,1,2],inplace=True)\n",
    "Train['pain'].replace(['mild_pain','alert','extreme_pain','severe_pain','depressed'],[0,1,2,3,4],inplace=True)\n",
    "Train['peristalsis'].replace(['absent','normal','hypomotile','hypermotile'],[0,1,2,3],inplace=True)\n",
    "Train['abdominal_distention'].replace(['none','slight','moderate','severe'],[0,1,2,3],inplace=True)\n",
    "Train['nasogastric_tube'].replace(['none','slight','significant'],[0,1,2],inplace=True)\n",
    "Train['nasogastric_reflux'].replace(['none','slight','less_1_liter','more_1_liter'],[0,1,2,3],inplace=True)\n",
    "Train['rectal_exam_feces'].replace(['absent','normal','decreased','increased','serosanguious'],[0,1,2,3,4],inplace=True)\n",
    "Train['abdomen'].replace(['normal','firm','distend_small','distend_large','other'],[0,1,2,3,4],inplace=True)\n",
    "Train['abdomo_appearance'].replace(['clear','cloudy','serosanguious'],[0,1,2],inplace=True)\n",
    "Train['surgical_lesion'].replace(['no','yes'],[0,1],inplace=True)\n",
    "Train['cp_data'].replace(['no','yes'],[0,1],inplace=True)\n",
    "Train['outcome'].replace(['died','lived','euthanized'],[0,1,2],inplace=True)"
   ]
  },
  {
   "cell_type": "code",
   "execution_count": 6,
   "id": "52b232f7",
   "metadata": {},
   "outputs": [],
   "source": [
    "Train['mucous_membrane'].replace(['normal_pink','pale_pink','bright_pink','bright_red','pale_cyanotic','dark_cyanotic'],[0,1,2,3,4,5],inplace=True)\n",
    "Train['age'].replace(['adult','young'],[1,0],inplace=True)\n",
    "Train = Train.drop(columns=['hospital_number'])\n"
   ]
  },
  {
   "cell_type": "code",
   "execution_count": 7,
   "id": "d37fb139",
   "metadata": {},
   "outputs": [],
   "source": [
    "Test['surgery'].replace(['yes','no'],[1,0],inplace=True)\n",
    "Test['temp_of_extremities'].replace(['cold','cool','normal','warm'],[0,1,2,3],inplace=True)\n",
    "Test['peripheral_pulse'].replace(['absent','reduced','normal','increased'],[0,1,2,3],inplace=True)\n",
    "Test['capillary_refill_time'].replace(['less_3_sec','3','more_3_sec'],[0,1,2],inplace=True)\n",
    "Test['pain'].replace(['mild_pain','alert','extreme_pain','severe_pain','depressed'],[0,1,2,3,4],inplace=True)\n",
    "Test['mucous_membrane'].replace(['normal_pink','pale_pink','bright_pink','bright_red','pale_cyanotic','dark_cyanotic'],[0,1,2,3,4,5],inplace=True)\n",
    "Test['mucous_membrane'].replace(['normal_pink','pale_pink','bright_pink','bright_red','pale_cyanotic','dark_cyanotic'],[0,1,2,3,4,5],inplace=True)\n",
    "Test['peristalsis'].replace(['absent','normal','hypomotile','hypermotile'],[0,1,2,3],inplace=True)\n",
    "Test['abdominal_distention'].replace(['none','slight','moderate','severe'],[0,1,2,3],inplace=True)\n",
    "Test['nasogastric_tube'].replace(['none','slight','significant'],[0,1,2],inplace=True)\n",
    "Test['nasogastric_reflux'].replace(['none','slight','less_1_liter','more_1_liter'],[0,1,2,3],inplace=True)\n",
    "Test['rectal_exam_feces'].replace(['absent','normal','decreased','increased','serosanguious'],[0,1,2,3,4],inplace=True)\n",
    "Test['abdomen'].replace(['normal','firm','distend_small','distend_large','other'],[0,1,2,3,4],inplace=True)\n",
    "Test['abdomo_appearance'].replace(['clear','cloudy','serosanguious'],[0,1,2],inplace=True)\n",
    "Test['surgical_lesion'].replace(['no','yes'],[0,1],inplace=True)\n",
    "Test['cp_data'].replace(['no','yes'],[0,1],inplace=True)\n",
    "Test['age'].replace(['adult','young'],[1,0],inplace=True)\n"
   ]
  },
  {
   "cell_type": "code",
   "execution_count": 8,
   "id": "1337258d",
   "metadata": {},
   "outputs": [],
   "source": [
    "Test = Test.drop(columns=['hospital_number'])\n"
   ]
  },
  {
   "cell_type": "code",
   "execution_count": 11,
   "id": "64ce2203",
   "metadata": {},
   "outputs": [],
   "source": [
    "Train['lesion_2'].replace(['3111','3112'],[1,2],inplace=True)\n",
    "Train['lesion_3'].replace(['2209'],[1],inplace=True)"
   ]
  },
  {
   "cell_type": "code",
   "execution_count": 12,
   "id": "b6cbb09d",
   "metadata": {},
   "outputs": [],
   "source": [
    "Test['lesion_2'].replace(['3111','3112'],[1,2],inplace=True)\n",
    "Test['lesion_3'].replace(['2209'],[1],inplace=True)"
   ]
  },
  {
   "cell_type": "code",
   "execution_count": 13,
   "id": "d673ac08",
   "metadata": {},
   "outputs": [],
   "source": [
    "Train = Train.drop(columns=['lesion_1'])\n",
    "Train = Train.drop(columns=['id'])"
   ]
  },
  {
   "cell_type": "code",
   "execution_count": 14,
   "id": "5528d55b",
   "metadata": {},
   "outputs": [],
   "source": [
    "Test = Test.drop(columns=['lesion_1'])\n"
   ]
  },
  {
   "cell_type": "code",
   "execution_count": 15,
   "id": "06ce9f25",
   "metadata": {},
   "outputs": [],
   "source": [
    "#Standardizing #\n",
    "\n",
    "mean = Train['pulse'].mean()\n",
    "std = Train['pulse'].std()\n",
    "\n",
    "Train['pulse'] = (Train['pulse'] - mean) / std\n",
    "Test['pulse'] = (Test['pulse'] - mean) / std\n",
    "\n",
    "mean1 = Train['rectal_temp'].mean()\n",
    "std1 = Train['rectal_temp'].std()\n",
    "\n",
    "Train['rectal_temp'] = (Train['rectal_temp'] - mean1) / std1\n",
    "Test['rectal_temp'] = (Test['rectal_temp'] - mean1) / std1\n",
    "\n",
    "\n",
    "mean2 = Train['respiratory_rate'].mean()\n",
    "std2 = Train['respiratory_rate'].std()\n",
    "\n",
    "Train['respiratory_rate'] = (Train['respiratory_rate'] - mean2) / std2\n",
    "Test['respiratory_rate'] = (Test['respiratory_rate'] - mean2) / std2\n",
    "\n",
    "mean3 = Train['nasogastric_reflux_ph'].mean()\n",
    "std3 = Train['nasogastric_reflux_ph'].std()\n",
    "\n",
    "Train['nasogastric_reflux_ph'] = (Train['nasogastric_reflux_ph'] - mean3) / std3\n",
    "Test['nasogastric_reflux_ph'] = (Test['nasogastric_reflux_ph'] - mean3) / std3\n",
    "\n",
    "mean4 = Train['packed_cell_volume'].mean()\n",
    "std4 = Train['packed_cell_volume'].std()\n",
    "\n",
    "Train['packed_cell_volume'] = (Train['packed_cell_volume'] - mean4) / std4\n",
    "Test['packed_cell_volume'] = (Test['packed_cell_volume'] - mean4) / std4\n",
    "\n",
    "\n",
    "mean5 = Train['total_protein'].mean()\n",
    "std5 = Train['total_protein'].std()\n",
    "\n",
    "Train['total_protein'] = (Train['total_protein'] - mean5) / std5\n",
    "Test['total_protein'] = (Test['total_protein'] - mean5) / std5\n",
    "\n",
    "\n",
    "mean6 = Train['abdomo_protein'].mean()\n",
    "std6 = Train['abdomo_protein'].std()\n",
    "\n",
    "Train['abdomo_protein'] = (Train['abdomo_protein'] - mean6) / std6\n",
    "Test['abdomo_protein'] = (Test['abdomo_protein'] - mean6) / std6\n",
    "\n",
    "\n",
    "\n"
   ]
  },
  {
   "cell_type": "code",
   "execution_count": 16,
   "id": "a690b86a",
   "metadata": {},
   "outputs": [],
   "source": [
    "import sys\n",
    "sys.path.append('/home/fvalens11/sklearn-env/lib/python3.12/site-packages')"
   ]
  },
  {
   "cell_type": "code",
   "execution_count": 17,
   "id": "c2e301ec",
   "metadata": {},
   "outputs": [
    {
     "name": "stdout",
     "output_type": "stream",
     "text": [
      "       id     outcome\n",
      "0    1235       lived\n",
      "1    1236        died\n",
      "2    1237       lived\n",
      "6    1241        died\n",
      "8    1243       lived\n",
      "..    ...         ...\n",
      "815  2050  euthanized\n",
      "816  2051        died\n",
      "817  2052        died\n",
      "818  2053  euthanized\n",
      "820  2055  euthanized\n",
      "\n",
      "[500 rows x 2 columns]\n"
     ]
    }
   ],
   "source": [
    "from sklearn.ensemble import RandomForestClassifier\n",
    "from sklearn.model_selection import train_test_split\n",
    "from sklearn.preprocessing import LabelEncoder\n",
    "\n",
    "\n",
    "X_train = Train.drop(columns=['outcome'])\n",
    "y_train = Train['outcome']\n",
    "\n",
    "X_test = Test.drop(columns=['id'])\n",
    "\n",
    "label_encoder = LabelEncoder()\n",
    "\n",
    "for column in X_train.select_dtypes(include=['object']).columns:\n",
    "    X_train[column] = label_encoder.fit_transform(X_train[column])\n",
    "    X_test[column] = label_encoder.transform(X_test[column])\n",
    "\n",
    "model = RandomForestClassifier(n_estimators=100, random_state=42)\n",
    "\n",
    "model.fit(X_train, y_train)\n",
    "\n",
    "predictions = model.predict(X_test)\n",
    "\n",
    "result = pd.DataFrame({\n",
    "    'id': Test['id'],\n",
    "    'outcome': predictions\n",
    "})\n",
    "\n",
    "outcome_map = {0: 'died', 1: 'lived', 2: 'euthanized'}\n",
    "result['outcome'] = result['outcome'].map(outcome_map)\n",
    "\n",
    "print(result)\n",
    "\n",
    "result.to_csv('predictions.csv', index=False)\n"
   ]
  },
  {
   "cell_type": "code",
   "execution_count": 19,
   "id": "b4913f9a",
   "metadata": {},
   "outputs": [],
   "source": [
    "my_score = pd.read_csv('predictions.csv')"
   ]
  },
  {
   "cell_type": "code",
   "execution_count": 46,
   "id": "039fe4ae",
   "metadata": {},
   "outputs": [],
   "source": [
    "score = pd.read_csv('sample_submission.csv')"
   ]
  },
  {
   "cell_type": "code",
   "execution_count": 22,
   "id": "a7c0ac96",
   "metadata": {},
   "outputs": [
    {
     "name": "stdout",
     "output_type": "stream",
     "text": [
      "F1 Score for lived: 0.6468\n",
      "F1 Score for died: 0.0000\n",
      "F1 Score for euthanized: 0.0000\n",
      "\n",
      "Weighted F1 Score (with emphasis on 'lived'): 0.3234\n"
     ]
    }
   ],
   "source": [
    "from sklearn.metrics import f1_score\n",
    "\n",
    "merged = pd.merge(my_score, score, on='id', suffixes=('_pred', '_true'))\n",
    "\n",
    "y_pred = merged['outcome_pred']\n",
    "y_true = merged['outcome_true']\n",
    "\n",
    "class_weights = {\n",
    "    'lived': 2.0,\n",
    "    'died': 1.0,\n",
    "    'euthanized': 1.0\n",
    "}\n",
    "\n",
    "classes = ['lived', 'died', 'euthanized']\n",
    "\n",
    "f1_scores = f1_score(y_true, y_pred, average=None, labels=classes)\n",
    "\n",
    "\n",
    "weights = np.array([class_weights[cls] for cls in classes])\n",
    "weighted_f1 = np.sum(f1_scores * weights) / np.sum(weights)\n",
    "\n",
    "for cls, score in zip(classes, f1_scores):\n",
    "    print(f\"F1 Score for {cls}: {score:.4f}\")\n",
    "print(f\"\\nWeighted F1 Score (with emphasis on 'lived'): {weighted_f1:.4f}\")"
   ]
  },
  {
   "cell_type": "code",
   "execution_count": 23,
   "id": "9dacbd67",
   "metadata": {},
   "outputs": [],
   "source": [
    "Train_no_Eu = Train"
   ]
  },
  {
   "cell_type": "code",
   "execution_count": 25,
   "id": "35f40569",
   "metadata": {},
   "outputs": [],
   "source": [
    "Train['outcome'].replace(['died','lived','euthanized'],[0,1,0],inplace=True)"
   ]
  },
  {
   "cell_type": "code",
   "execution_count": 26,
   "id": "e82bfcab",
   "metadata": {},
   "outputs": [
    {
     "name": "stdout",
     "output_type": "stream",
     "text": [
      "       id outcome\n",
      "0    1235   lived\n",
      "1    1236    died\n",
      "2    1237   lived\n",
      "6    1241    died\n",
      "8    1243   lived\n",
      "..    ...     ...\n",
      "815  2050     NaN\n",
      "816  2051    died\n",
      "817  2052    died\n",
      "818  2053     NaN\n",
      "820  2055     NaN\n",
      "\n",
      "[500 rows x 2 columns]\n"
     ]
    }
   ],
   "source": [
    "from sklearn.ensemble import RandomForestClassifier\n",
    "from sklearn.model_selection import train_test_split\n",
    "from sklearn.preprocessing import LabelEncoder\n",
    "\n",
    "\n",
    "X_train = Train.drop(columns=['outcome'])\n",
    "y_train = Train['outcome']\n",
    "\n",
    "X_test = Test.drop(columns=['id'])\n",
    "\n",
    "label_encoder = LabelEncoder()\n",
    "\n",
    "for column in X_train.select_dtypes(include=['object']).columns:\n",
    "    X_train[column] = label_encoder.fit_transform(X_train[column])\n",
    "    X_test[column] = label_encoder.transform(X_test[column])\n",
    "\n",
    "model = RandomForestClassifier(n_estimators=100, random_state=42)\n",
    "\n",
    "model.fit(X_train, y_train)\n",
    "\n",
    "predictions = model.predict(X_test)\n",
    "\n",
    "result = pd.DataFrame({\n",
    "    'id': Test['id'],\n",
    "    'outcome': predictions\n",
    "})\n",
    "\n",
    "outcome_map = {0: 'died', 1: 'lived'}\n",
    "result['outcome'] = result['outcome'].map(outcome_map)\n",
    "\n",
    "print(result)\n",
    "\n",
    "result.to_csv('predictions.csv', index=False)\n"
   ]
  },
  {
   "cell_type": "code",
   "execution_count": 30,
   "id": "df403bc8",
   "metadata": {},
   "outputs": [],
   "source": [
    "score2 = pd.read_csv('predictions.csv')"
   ]
  },
  {
   "cell_type": "code",
   "execution_count": 33,
   "id": "8da9b9d2",
   "metadata": {},
   "outputs": [],
   "source": [
    "score2['outcome'] = score2['outcome'].fillna('died')"
   ]
  },
  {
   "cell_type": "code",
   "execution_count": 42,
   "id": "b3039892",
   "metadata": {},
   "outputs": [
    {
     "name": "stdout",
     "output_type": "stream",
     "text": [
      "F1 Score for lived: 0.6468\n",
      "F1 Score for died: 0.0000\n",
      "\n",
      "Weighted F1 Score (with emphasis on 'lived'): 0.4312\n"
     ]
    }
   ],
   "source": [
    "from sklearn.metrics import f1_score\n",
    "\n",
    "merged = pd.merge(score2, score, on='id', suffixes=('_pred', '_true'))\n",
    "\n",
    "y_pred = merged['outcome_pred']\n",
    "y_true = merged['outcome_true']\n",
    "\n",
    "class_weights = {\n",
    "    'lived': 2.0,\n",
    "    'died': 1.0,\n",
    "}\n",
    "\n",
    "classes = ['lived', 'died']\n",
    "\n",
    "f1_scores = f1_score(y_true, y_pred, average=None, labels=classes)\n",
    "\n",
    "\n",
    "weights = np.array([class_weights[cls] for cls in classes])\n",
    "weighted_f1 = np.sum(f1_scores * weights) / np.sum(weights)\n",
    "\n",
    "for cls, score in zip(classes, f1_scores):\n",
    "    print(f\"F1 Score for {cls}: {score:.4f}\")\n",
    "print(f\"\\nWeighted F1 Score (with emphasis on 'lived'): {weighted_f1:.4f}\")"
   ]
  },
  {
   "cell_type": "code",
   "execution_count": null,
   "id": "8f3a8453",
   "metadata": {},
   "outputs": [],
   "source": []
  }
 ],
 "metadata": {
  "kernelspec": {
   "display_name": "Python 3 (ipykernel)",
   "language": "python",
   "name": "python3"
  },
  "language_info": {
   "codemirror_mode": {
    "name": "ipython",
    "version": 3
   },
   "file_extension": ".py",
   "mimetype": "text/x-python",
   "name": "python",
   "nbconvert_exporter": "python",
   "pygments_lexer": "ipython3",
   "version": "3.12.3"
  }
 },
 "nbformat": 4,
 "nbformat_minor": 5
}
